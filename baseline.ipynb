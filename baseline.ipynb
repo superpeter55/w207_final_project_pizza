{
 "cells": [
  {
   "cell_type": "markdown",
   "metadata": {},
   "source": [
    "# Project Pizza\n",
    "### Conner Brew, Maddie DiLullo Byrne, Joy Jiang, Peter Morgan"
   ]
  },
  {
   "cell_type": "markdown",
   "metadata": {},
   "source": [
    "# Introduction\n",
    "The \"Random Acts of Pizza\" problem is a Kaggle competition which analyzes and makes predictions on data from the subreddit \"Random Acts of Pizza\" (RAOP). \n",
    "Reddit users may make a post on reddit requesting pizza, and other reddit users may respond to that request. \n",
    "The task is, given a pizza request, predict whether or not that request will be successful in receiving pizza. "
   ]
  },
  {
   "cell_type": "markdown",
   "metadata": {},
   "source": [
    "## Import Libraries"
   ]
  },
  {
   "cell_type": "code",
   "execution_count": 23,
   "metadata": {},
   "outputs": [
    {
     "name": "stderr",
     "output_type": "stream",
     "text": [
      "[nltk_data] Downloading package wordnet to /u1/wjiang/nltk_data...\n",
      "[nltk_data]   Package wordnet is already up-to-date!\n",
      "[nltk_data] Downloading package vader_lexicon to\n",
      "[nltk_data]     /u1/wjiang/nltk_data...\n",
      "[nltk_data]   Package vader_lexicon is already up-to-date!\n",
      "[nltk_data] Downloading package punkt to /u1/wjiang/nltk_data...\n",
      "[nltk_data]   Package punkt is already up-to-date!\n"
     ]
    },
    {
     "data": {
      "text/plain": [
       "True"
      ]
     },
     "execution_count": 23,
     "metadata": {},
     "output_type": "execute_result"
    }
   ],
   "source": [
    "import os \n",
    "import nltk\n",
    "import pandas as pd\n",
    "import numpy as np\n",
    "import regex as re\n",
    "import matplotlib.pyplot as plt\n",
    "import seaborn as sns\n",
    "\n",
    "from datetime import datetime\n",
    "from random import sample\n",
    "\n",
    "from sklearn import preprocessing\n",
    "from sklearn import metrics\n",
    "from sklearn.model_selection import cross_val_score\n",
    "from sklearn.model_selection import train_test_split\n",
    "from sklearn.model_selection import RandomizedSearchCV\n",
    "from sklearn.ensemble import RandomForestClassifier\n",
    "from sklearn.linear_model import LogisticRegression\n",
    "from sklearn.naive_bayes import MultinomialNB\n",
    "from sklearn.svm import SVC\n",
    "from sklearn.feature_extraction.text import CountVectorizer\n",
    "from sklearn.feature_extraction.text import TfidfTransformer\n",
    "\n",
    "from nltk.sentiment.vader import SentimentIntensityAnalyzer\n",
    "from nltk.stem import WordNetLemmatizer\n",
    "from nltk.corpus import stopwords\n",
    "\n",
    "nltk.download('wordnet')\n",
    "nltk.download('vader_lexicon')\n",
    "nltk.download('punkt')"
   ]
  },
  {
   "cell_type": "markdown",
   "metadata": {},
   "source": [
    "## Load Data\n",
    "The data is in .json form. After exploratory analysis of the data, we recognized that the target was stored in the field `requester_received_pizza`. \n",
    "We also identified multiple fields in the training set of data which was not in the \"live\" data on which we would be making predictions. \n",
    "Therefore, this stage of the notebook conducts rudimentary data cleaning and removes said fields from the data so they could not influence model performance. \n",
    "We also removed data which was unique to every observation, therefore containing little to no information signal."
   ]
  },
  {
   "cell_type": "code",
   "execution_count": 24,
   "metadata": {},
   "outputs": [
    {
     "name": "stdout",
     "output_type": "stream",
     "text": [
      "Roughly 25% of requests receive pizza.\n"
     ]
    }
   ],
   "source": [
    "#load in training data. We will use this as both train and test, and save 'test.json' for validation\n",
    "data = pd.read_json('data/train/train.json').rename(columns = {'requester_received_pizza': 'target'})\n",
    "drop_cols = [col for col in data.columns if 'retrieval' in col]\n",
    "data = data.drop(columns=drop_cols)\n",
    "drop_cols = ['giver_username_if_known', 'request_id', 'requester_username', 'post_was_edited']\n",
    "data = data.drop(columns=drop_cols)\n",
    "                 \n",
    "#Change the boolean target variable to an int\n",
    "data['target'] = data['target'].astype(int)\n",
    "                 \n",
    "y = data['target']\n",
    "X = data.drop(columns=['target'])\n",
    "\n",
    "#Get a rough idea of target baseline\n",
    "baseline = round(sum(data['target']) / len(data['target']), 2)\n",
    "print(f'Roughly {int(baseline * 100)}% of requests receive pizza.')\n",
    "\n"
   ]
  },
  {
   "cell_type": "markdown",
   "metadata": {},
   "source": [
    "## Utility Functions\n",
    "The following utility functions are used to evaluate model performance. "
   ]
  },
  {
   "cell_type": "code",
   "execution_count": 25,
   "metadata": {},
   "outputs": [],
   "source": [
    "def balance_sample(X, y):\n",
    "    \"\"\"\n",
    "    Take in an imbalanced dataset.\n",
    "    force a sample which maintains equal ratio of target. \n",
    "    \n",
    "    Args: Data, target (pandas dataframe)\n",
    "    Returns: Data, target (pandas dataframe)\n",
    "    \"\"\"\n",
    "    \n",
    "    #Separate the positive and negative samples in the data\n",
    "    X_pos = [i for i in range(len(X)) if y[i] == 1]\n",
    "    X_neg = sample([i for i in range(len(X)) if y[i] != 1], len(X_pos))\n",
    "\n",
    "    #Separate the positive and negative targets\n",
    "    y_pos = [i for i in range(len(y)) if y[i] == 1]\n",
    "    y_neg = sample([i for i in range(len(y)) if y[i] != 1], len(y_pos))\n",
    "\n",
    "    #Re-join the dataset after forced balanced sample\n",
    "    y = pd.concat([y.iloc[y_pos], y.iloc[y_neg]])\n",
    "    X = pd.concat([X.iloc[X_pos], X.iloc[X_neg]])\n",
    "    \n",
    "    return X, y\n",
    "\n",
    "def eval_model(X, clf, plot_importance = False):\n",
    "    \"\"\"\n",
    "    Given a data set and model, evaluate model performance \n",
    "    on in-sample data using cross-validation\n",
    "    and out-of-sample data. Optionally plot feature importance\n",
    "    \n",
    "    args: dataset (pandas dataframe), classification model\n",
    "    kwargs: boolean plot feature importance\n",
    "    \n",
    "    return: None\n",
    "    \"\"\"\n",
    "    \n",
    "    #Filter data for int and float types\n",
    "    X = X.select_dtypes(np.number)\n",
    "    \n",
    "    #Train test split with forced stratification\n",
    "    X_train, X_test, y_train, y_test = train_test_split(X, y, test_size=0.33, random_state=123, stratify=y)\n",
    "    \n",
    "    #Score the in-sample model performance using cross validation\n",
    "    scores = cross_val_score(clf, X_train, y_train, cv=5)\n",
    "    print(f'CV Model Accuracy: {round(np.mean(scores), 4) * 100}%')\n",
    "    \n",
    "    #Predict on out-of-sample data and measure performance\n",
    "    clf.fit(X_train, y_train)\n",
    "    yhat = clf.predict(X_test)\n",
    "    print('Out of Sample Performance:')\n",
    "    print(metrics.confusion_matrix(yhat, y_test))\n",
    "    print(metrics.classification_report(yhat, y_test))\n",
    "\n",
    "    #Optionally plot feature importances\n",
    "    if plot_importance == True:\n",
    "        importances = clf.feature_importances_\n",
    "        std = np.std([tree.feature_importances_ for tree in clf.estimators_], axis=0)\n",
    "        feature_names = list(X.columns)\n",
    "        forest_importances = pd.Series(importances, index=feature_names)\n",
    "\n",
    "        fig, ax = plt.subplots(figsize=(10,10))\n",
    "        forest_importances.plot.barh(yerr=std, ax=ax)\n",
    "        ax.set_title(\"Feature importances using MDI\")\n",
    "        ax.set_ylabel(\"Mean decrease in impurity\")\n",
    "        fig.tight_layout()\n",
    "\n",
    "    \n",
    "def test_transformation(X, transformer):\n",
    "    \"\"\"\n",
    "    Apply a given transformation/scaler to dataset \n",
    "    Evaluate model performance\n",
    "    \n",
    "    args: dataset (pandas dataframe), \n",
    "          transformer/scaler object\n",
    "          \n",
    "    return: None\n",
    "    \"\"\"\n",
    "    \n",
    "    #Extract int and float types\n",
    "    X = X.select_dtypes(np.number)\n",
    "    \n",
    "    #test train split and apply transformation\n",
    "    X_train, X_test, y_train, y_test = train_test_split(X, y, test_size=0.33, random_state=42, stratify=y)\n",
    "    X_train = transformer.fit_transform(X_train)\n",
    "\n",
    "    #Default randomforest with cross validation\n",
    "    clf = RandomForestClassifier()\n",
    "    scores = cross_val_score(clf, X_train, y_train, cv=5)\n",
    "    print(f'Model accuracy w {str(transformer)}: {round(np.mean(scores), 4) * 100}%')\n",
    "    \n",
    "    #Predict out-of-sample performance\n",
    "    clf.fit(X_train, y_train)\n",
    "    yhat = clf.predict(X_test)\n",
    "    print('Out of Sample Performance:')\n",
    "    print(metrics.classification_report(yhat, y_test))\n",
    "    print('-------------------------\\n')\n",
    "    "
   ]
  },
  {
   "cell_type": "markdown",
   "metadata": {},
   "source": [
    "## Failed Experiment: Undersampling\n",
    "Because the data is very imbalanced (one class making up 75% of all observations),\n",
    "we attempted an undersampling technique to force sampling of a balanced dataset in an attempt\n",
    "to improve model performance. However, because the resulting data is so small (only 1988 observations)\n",
    "this worsened model performace considerably. "
   ]
  },
  {
   "cell_type": "code",
   "execution_count": 240,
   "metadata": {},
   "outputs": [],
   "source": [
    "#X, y = balance_sample(X, y)"
   ]
  },
  {
   "cell_type": "markdown",
   "metadata": {},
   "source": [
    "## Early Baseline\n",
    "We conducted a baseline evaluation given no parameter tuning, no feature engineering, and no transforming of the data. \n",
    "This baseline provided a scale by which we could evaluate experiments related to feature engineering and model tuning. "
   ]
  },
  {
   "cell_type": "code",
   "execution_count": 26,
   "metadata": {},
   "outputs": [
    {
     "name": "stderr",
     "output_type": "stream",
     "text": [
      "/usr/local/Anaconda3-5.3.1-Linux-x86_64/envs/jupyter-atp/lib/python3.6/site-packages/sklearn/ensemble/forest.py:246: FutureWarning: The default value of n_estimators will change from 10 in version 0.20 to 100 in 0.22.\n",
      "  \"10 in version 0.20 to 100 in 0.22.\", FutureWarning)\n",
      "/usr/local/Anaconda3-5.3.1-Linux-x86_64/envs/jupyter-atp/lib/python3.6/site-packages/sklearn/ensemble/forest.py:246: FutureWarning: The default value of n_estimators will change from 10 in version 0.20 to 100 in 0.22.\n",
      "  \"10 in version 0.20 to 100 in 0.22.\", FutureWarning)\n",
      "/usr/local/Anaconda3-5.3.1-Linux-x86_64/envs/jupyter-atp/lib/python3.6/site-packages/sklearn/ensemble/forest.py:246: FutureWarning: The default value of n_estimators will change from 10 in version 0.20 to 100 in 0.22.\n",
      "  \"10 in version 0.20 to 100 in 0.22.\", FutureWarning)\n",
      "/usr/local/Anaconda3-5.3.1-Linux-x86_64/envs/jupyter-atp/lib/python3.6/site-packages/sklearn/ensemble/forest.py:246: FutureWarning: The default value of n_estimators will change from 10 in version 0.20 to 100 in 0.22.\n",
      "  \"10 in version 0.20 to 100 in 0.22.\", FutureWarning)\n",
      "/usr/local/Anaconda3-5.3.1-Linux-x86_64/envs/jupyter-atp/lib/python3.6/site-packages/sklearn/ensemble/forest.py:246: FutureWarning: The default value of n_estimators will change from 10 in version 0.20 to 100 in 0.22.\n",
      "  \"10 in version 0.20 to 100 in 0.22.\", FutureWarning)\n"
     ]
    },
    {
     "name": "stdout",
     "output_type": "stream",
     "text": [
      "CV Model Accuracy: 72.91%\n",
      "Out of Sample Performance:\n",
      "[[907 281]\n",
      " [ 99  47]]\n",
      "              precision    recall  f1-score   support\n",
      "\n",
      "           0       0.90      0.76      0.83      1188\n",
      "           1       0.14      0.32      0.20       146\n",
      "\n",
      "   micro avg       0.72      0.72      0.72      1334\n",
      "   macro avg       0.52      0.54      0.51      1334\n",
      "weighted avg       0.82      0.72      0.76      1334\n",
      "\n"
     ]
    },
    {
     "name": "stderr",
     "output_type": "stream",
     "text": [
      "/usr/local/Anaconda3-5.3.1-Linux-x86_64/envs/jupyter-atp/lib/python3.6/site-packages/sklearn/ensemble/forest.py:246: FutureWarning: The default value of n_estimators will change from 10 in version 0.20 to 100 in 0.22.\n",
      "  \"10 in version 0.20 to 100 in 0.22.\", FutureWarning)\n"
     ]
    },
    {
     "data": {
      "image/png": "[encoded data removed]",
      "text/plain": [
       "<Figure size 720x720 with 1 Axes>"
      ]
     },
     "metadata": {
      "needs_background": "light"
     },
     "output_type": "display_data"
    }
   ],
   "source": [
    "#Evaluate model with no transformations/scalers\n",
    "#No additional features, and no parameter optimization\n",
    "rf = RandomForestClassifier()\n",
    "eval_model(X.copy(), rf, plot_importance = True)"
   ]
  },
  {
   "cell_type": "markdown",
   "metadata": {},
   "source": [
    "## Scaling and Transformation\n",
    "Given the abnormal distributions of many numerical fields in the data, we experimented with multiple transformers and scalers. \n",
    "However, ultimately none of the transformers substantially improved model performance. "
   ]
  },
  {
   "cell_type": "code",
   "execution_count": 242,
   "metadata": {},
   "outputs": [
    {
     "name": "stdout",
     "output_type": "stream",
     "text": [
      "Model accuracy w StandardScaler(): 75.17%\n",
      "Out of Sample Performance:\n",
      "              precision    recall  f1-score   support\n",
      "\n",
      "           0       0.95      0.76      0.85      1257\n",
      "           1       0.09      0.36      0.14        77\n",
      "\n",
      "    accuracy                           0.74      1334\n",
      "   macro avg       0.52      0.56      0.49      1334\n",
      "weighted avg       0.90      0.74      0.80      1334\n",
      "\n",
      "-------------------------\n",
      "\n",
      "Model accuracy w Normalizer(): 75.39%\n",
      "Out of Sample Performance:\n",
      "              precision    recall  f1-score   support\n",
      "\n",
      "           0       1.00      0.75      0.86      1334\n",
      "           1       0.00      0.00      0.00         0\n",
      "\n",
      "    accuracy                           0.75      1334\n",
      "   macro avg       0.50      0.38      0.43      1334\n",
      "weighted avg       1.00      0.75      0.86      1334\n",
      "\n",
      "-------------------------\n",
      "\n"
     ]
    },
    {
     "name": "stderr",
     "output_type": "stream",
     "text": [
      "C:\\Users\\conner.brew\\Anaconda3\\lib\\site-packages\\sklearn\\metrics\\_classification.py:1221: UndefinedMetricWarning: Recall and F-score are ill-defined and being set to 0.0 in labels with no true samples. Use `zero_division` parameter to control this behavior.\n",
      "  _warn_prf(average, modifier, msg_start, len(result))\n"
     ]
    },
    {
     "name": "stdout",
     "output_type": "stream",
     "text": [
      "Model accuracy w MinMaxScaler(): 74.94%\n",
      "Out of Sample Performance:\n",
      "              precision    recall  f1-score   support\n",
      "\n",
      "           0       0.86      0.77      0.81      1134\n",
      "           1       0.20      0.32      0.24       200\n",
      "\n",
      "    accuracy                           0.70      1334\n",
      "   macro avg       0.53      0.54      0.53      1334\n",
      "weighted avg       0.76      0.70      0.73      1334\n",
      "\n",
      "-------------------------\n",
      "\n",
      "Model accuracy w MaxAbsScaler(): 75.2%\n",
      "Out of Sample Performance:\n",
      "              precision    recall  f1-score   support\n",
      "\n",
      "           0       0.86      0.77      0.81      1136\n",
      "           1       0.19      0.31      0.24       198\n",
      "\n",
      "    accuracy                           0.70      1334\n",
      "   macro avg       0.53      0.54      0.52      1334\n",
      "weighted avg       0.76      0.70      0.73      1334\n",
      "\n",
      "-------------------------\n",
      "\n"
     ]
    },
    {
     "name": "stderr",
     "output_type": "stream",
     "text": [
      "C:\\Users\\conner.brew\\Anaconda3\\lib\\site-packages\\sklearn\\preprocessing\\_data.py:2995: RuntimeWarning: divide by zero encountered in log\n",
      "  loglike = -n_samples / 2 * np.log(x_trans.var())\n"
     ]
    },
    {
     "name": "stdout",
     "output_type": "stream",
     "text": [
      "Model accuracy w PowerTransformer(): 75.64999999999999%\n",
      "Out of Sample Performance:\n",
      "              precision    recall  f1-score   support\n",
      "\n",
      "           0       0.96      0.76      0.85      1266\n",
      "           1       0.08      0.37      0.13        68\n",
      "\n",
      "    accuracy                           0.74      1334\n",
      "   macro avg       0.52      0.56      0.49      1334\n",
      "weighted avg       0.91      0.74      0.81      1334\n",
      "\n",
      "-------------------------\n",
      "\n"
     ]
    }
   ],
   "source": [
    "#Initialize list of possible scalers/transformers\n",
    "transformers = [\n",
    "    preprocessing.StandardScaler(),\n",
    "    preprocessing.Normalizer(),\n",
    "    preprocessing.MinMaxScaler(),\n",
    "    preprocessing.MaxAbsScaler(),\n",
    "    preprocessing.PowerTransformer(method = 'yeo-johnson')\n",
    "]\n",
    "\n",
    "#Iterate through transformers and evaluate model performance\n",
    "for transformer in transformers:\n",
    "    test_transformation(X.copy(), transformer)"
   ]
  },
  {
   "cell_type": "markdown",
   "metadata": {},
   "source": [
    "## Sentiment Analysis\n",
    "NLTK's Vader lexicon has a built-in unsupervised sentiment analyzer which scores a text as positive or negative based on pre-defined sentiment of key words. We applied the vader sentiment analyzer to text fields within the data to use as modeling fields. "
   ]
  },
  {
   "cell_type": "code",
   "execution_count": 257,
   "metadata": {},
   "outputs": [
    {
     "name": "stdout",
     "output_type": "stream",
     "text": [
      "CV Model Accuracy: 76.24%\n",
      "Out of Sample Performance:\n",
      "[[966 288]\n",
      " [ 40  40]]\n",
      "              precision    recall  f1-score   support\n",
      "\n",
      "           0       0.96      0.77      0.85      1254\n",
      "           1       0.12      0.50      0.20        80\n",
      "\n",
      "    accuracy                           0.75      1334\n",
      "   macro avg       0.54      0.64      0.53      1334\n",
      "weighted avg       0.91      0.75      0.82      1334\n",
      "\n"
     ]
    },
    {
     "data": {
      "image/png": "[encoded data removed]",
      "text/plain": [
       "<Figure size 720x720 with 1 Axes>"
      ]
     },
     "metadata": {
      "needs_background": "light"
     },
     "output_type": "display_data"
    }
   ],
   "source": [
    " def sentiment_analyze(X):\n",
    "    \"\"\"\n",
    "    Conduct sentiment analysis of text fields\n",
    "    Apply sentiment analysis results as a model feature\n",
    "    Measure length of text features and apply as feature\n",
    "    \n",
    "    args: dataset (pandas dataframe)\n",
    "    \n",
    "    return: dataset + sentiment features\n",
    "    \"\"\"\n",
    "    \n",
    "    #Initialize sentiment analysis object\n",
    "    sid = SentimentIntensityAnalyzer()\n",
    "    \n",
    "    #Copy data \n",
    "    sid_data = X.copy()\n",
    "    \n",
    "    #use inbuilt sid.polarity_scores to extract scores. Read on for the results\n",
    "    text_analyzed = X['request_text_edit_aware'].apply(lambda request_text: sid.polarity_scores(request_text))\n",
    "\n",
    "    #We break the dict generated above and pull only column 'compound'\n",
    "    sid_data['text_sentiment']  = text_analyzed.apply(lambda s : s['compound'])\n",
    "\n",
    "    #use inbuilt sid.polarity_scores to extract scores. Read on for the results\n",
    "    title_analyzed = X['request_title'].apply(lambda request_title: sid.polarity_scores(request_title))\n",
    "\n",
    "    #We break the dict generated above and pull only column 'compound'\n",
    "    sid_data['title_sentiment']  = title_analyzed.apply(lambda s : s['compound'])\n",
    "\n",
    "    #Measure the length of text fields and apply as feature\n",
    "    sid_data['text_length']=data['request_text_edit_aware'].apply(lambda s: len(nltk.word_tokenize(s)))\n",
    "    sid_data['title_length']=data['request_title'].apply(lambda s: len(nltk.word_tokenize(s)))\n",
    "    \n",
    "    return sid_data\n",
    "\n",
    "eval_model(sentiment_analyze(X.copy()), rf, plot_importance=True)"
   ]
  },
  {
   "cell_type": "markdown",
   "metadata": {},
   "source": [
    "## Word Vectorization\n",
    "We also attempted various methods of word tokenization, beginning with a standard count vectorizer and then applying a TF-IDF transformer. "
   ]
  },
  {
   "cell_type": "code",
   "execution_count": 244,
   "metadata": {},
   "outputs": [],
   "source": [
    "def vectorize_text(X):\n",
    "    \"\"\"\n",
    "    Given a dataset, extract text fields and countvectorize\n",
    "    \n",
    "    args: dataset (pandas dataframe)\n",
    "    \n",
    "    return: vector array \n",
    "    \"\"\"\n",
    "    \n",
    "    #Initialize empty list of documents\n",
    "    documents = []\n",
    "\n",
    "    #Initialize stop words and lemmatizer object\n",
    "    stop_words = set(stopwords.words('english'))\n",
    "    stemmer = WordNetLemmatizer()\n",
    "\n",
    "    #Iterate through text field to apply pre-processing\n",
    "    for doc in X['request_text_edit_aware']:\n",
    "        # Remove all the special characters\n",
    "        document = re.sub(r'\\W', ' ', str(doc))    \n",
    "        # remove all single characters\n",
    "        document = re.sub(r'\\s+[a-zA-Z]\\s+', ' ', document)    \n",
    "        # Remove single characters from the start\n",
    "        document = re.sub(r'\\^[a-zA-Z]\\s+', ' ', document)     \n",
    "        # Substituting multiple spaces with single space\n",
    "        document = re.sub(r'\\s+', ' ', document, flags=re.I)    \n",
    "        # Removing prefixed 'b'\n",
    "        document = re.sub(r'^b\\s+', '', document) \n",
    "        # Converting to Lowercase\n",
    "        document = document.lower()    \n",
    "        #drop stops\n",
    "        document = document.split()\n",
    "        document = [word for word in document if word not in stop_words]    \n",
    "        #lemmatize\n",
    "        document = [stemmer.lemmatize(word) for word in document]\n",
    "        document = ' '.join(document)\n",
    "        documents.append(document)\n",
    "        \n",
    "    #Vectorize documents\n",
    "    vectorizer = CountVectorizer(max_features=100, min_df=10, max_df=0.7, stop_words=stopwords.words('english'))\n",
    "    vec = vectorizer.fit_transform(documents).toarray()\n",
    "    \n",
    "    return vec"
   ]
  },
  {
   "cell_type": "code",
   "execution_count": 245,
   "metadata": {},
   "outputs": [
    {
     "name": "stdout",
     "output_type": "stream",
     "text": [
      "CV Model Accuracy: 75.42999999999999%\n",
      "Out of Sample Performance:\n",
      "[[989 296]\n",
      " [ 17  32]]\n",
      "              precision    recall  f1-score   support\n",
      "\n",
      "           0       0.98      0.77      0.86      1285\n",
      "           1       0.10      0.65      0.17        49\n",
      "\n",
      "    accuracy                           0.77      1334\n",
      "   macro avg       0.54      0.71      0.52      1334\n",
      "weighted avg       0.95      0.77      0.84      1334\n",
      "\n"
     ]
    }
   ],
   "source": [
    "def count_vectorize(X):\n",
    "    \"\"\"\n",
    "    Merge vectorized text array with a given dataset\n",
    "    \n",
    "    args: dataset (pandas dataframe)\n",
    "    \n",
    "    return: dataset (pandas dataframe)\n",
    "    \"\"\"\n",
    "    \n",
    "    #Merge dataset and count-vectorized text features\n",
    "    vec_data = pd.merge(X, pd.DataFrame(vectorize_text(X.copy())), left_index=True, right_index=True)\n",
    "    return vec_data\n",
    "\n",
    "eval_model(count_vectorize(X.copy()), rf)"
   ]
  },
  {
   "cell_type": "code",
   "execution_count": 246,
   "metadata": {},
   "outputs": [
    {
     "name": "stdout",
     "output_type": "stream",
     "text": [
      "CV Model Accuracy: 75.39%\n",
      "Out of Sample Performance:\n",
      "[[996 302]\n",
      " [ 10  26]]\n",
      "              precision    recall  f1-score   support\n",
      "\n",
      "           0       0.99      0.77      0.86      1298\n",
      "           1       0.08      0.72      0.14        36\n",
      "\n",
      "    accuracy                           0.77      1334\n",
      "   macro avg       0.53      0.74      0.50      1334\n",
      "weighted avg       0.97      0.77      0.85      1334\n",
      "\n"
     ]
    }
   ],
   "source": [
    "def tfidf_vec(X):\n",
    "    \"\"\"\n",
    "    Apply TF-IDF transformer to vectorized text array\n",
    "    merge to given dataset\n",
    "    \n",
    "    args: dataset (pandas dataframe)\n",
    "    \n",
    "    return: dataset\n",
    "    \"\"\"\n",
    "    \n",
    "    #Initialize transformer and transform vectorized text\n",
    "    tfidfconverter = TfidfTransformer()\n",
    "    tfidf_request = tfidfconverter.fit_transform(vectorize_text(X.copy())).toarray()\n",
    "    \n",
    "    #Merge tf-idf array to given dataset\n",
    "    tfidf_data = pd.merge(X, pd.DataFrame(tfidf_request), left_index=True, right_index=True)\n",
    "    \n",
    "    return tfidf_data\n",
    "    \n",
    "eval_model(tfidf_vec(X.copy()), rf)"
   ]
  },
  {
   "cell_type": "markdown",
   "metadata": {},
   "source": [
    "## SubReddit Vector Analysis"
   ]
  },
  {
   "cell_type": "code",
   "execution_count": 27,
   "metadata": {},
   "outputs": [
    {
     "name": "stdout",
     "output_type": "stream",
     "text": [
      "number of features: 7484\n"
     ]
    },
    {
     "name": "stderr",
     "output_type": "stream",
     "text": [
      "/usr/local/Anaconda3-5.3.1-Linux-x86_64/envs/jupyter-atp/lib/python3.6/site-packages/sklearn/linear_model/logistic.py:433: FutureWarning: Default solver will be changed to 'lbfgs' in 0.22. Specify a solver to silence this warning.\n",
      "  FutureWarning)\n"
     ]
    },
    {
     "data": {
      "image/png": "[encoded data removed]",
      "text/plain": [
       "<Figure size 432x288 with 1 Axes>"
      ]
     },
     "metadata": {
      "needs_background": "light"
     },
     "output_type": "display_data"
    },
    {
     "data": {
      "image/png": "[encoded data removed]",
      "text/plain": [
       "<Figure size 432x288 with 1 Axes>"
      ]
     },
     "metadata": {
      "needs_background": "light"
     },
     "output_type": "display_data"
    },
    {
     "name": "stdout",
     "output_type": "stream",
     "text": [
      "CV Model Accuracy: 74.53999999999999%\n",
      "Out of Sample Performance:\n",
      "[[949 299]\n",
      " [ 57  29]]\n",
      "              precision    recall  f1-score   support\n",
      "\n",
      "           0       0.94      0.76      0.84      1248\n",
      "           1       0.09      0.34      0.14        86\n",
      "\n",
      "   micro avg       0.73      0.73      0.73      1334\n",
      "   macro avg       0.52      0.55      0.49      1334\n",
      "weighted avg       0.89      0.73      0.80      1334\n",
      "\n"
     ]
    }
   ],
   "source": [
    "def vec_subreddit(X):\n",
    "    \"\"\"\n",
    "    Given a dataset, treat subreddits list as document and countvectorize\n",
    "    \n",
    "    args: dataset (pandas dataframe)\n",
    "    \n",
    "    display: top 10 subreddits for success and fail requests\n",
    "    \n",
    "    return: vector array \n",
    "    \"\"\"\n",
    "    # Reformat subredddits from list of words to sentence \n",
    "    subreddit = X['requester_subreddits_at_request'].apply(lambda x: \" \".join(x))\n",
    "\n",
    "    #initializer vectorizer and transform training data into a matrix of word unigram feature vectors\n",
    "    vectorizer = CountVectorizer()\n",
    "    cv_train = vectorizer.fit_transform(subreddit)\n",
    "    features = np.array(vectorizer.get_feature_names())\n",
    "    print('number of features:',features.shape[0])\n",
    "    \n",
    "    #build logistic regression model and use transformed train data to train the model\n",
    "    model = LogisticRegression(C=0.5, multi_class = 'ovr')\n",
    "    model.fit(cv_train, y)\n",
    "\n",
    "    #find the top 5 features (by weight/coefficient) for successful request\n",
    "    top_coef_success = model.coef_.argsort(axis=1)[:,-10:]\n",
    "    top_features_success = features[top_coef_success]\n",
    "    top_weights_success = model.coef_[:,top_coef_success.flatten()]\n",
    "    #df_success = pd.DataFrame(top_weights_success.T,index = top_features_success.T,columns=['success']).sort_values(by='success', ascending=False)\n",
    "    sns.barplot(x=list(top_weights_success.flatten()), y=list(top_features_success.flatten()))\n",
    "    plt.title(\"Display the weights of the top 10 subreddits for successful requests\")\n",
    "    plt.show()\n",
    "\n",
    "    #find the top 5 features (by weight/coefficient) for unsuccessful request\n",
    "    top_coef_fail = model.coef_.argsort(axis=1)[:,:10]\n",
    "    top_features_fail = features[top_coef_fail]\n",
    "    top_weights_fail = model.coef_[:,top_coef_fail.flatten()]\n",
    "    #display(pd.DataFrame(-top_weights_fail.T,index = top_features_fail.T,columns=['unsuccessful']))\n",
    "    sns.barplot(x=list(top_weights_fail.flatten()), y=list(top_features_fail.flatten()))\n",
    "    plt.title(\"Display the weights of the top 10 subreddits for unsuccessful requests\")\n",
    "    plt.show()\n",
    "\n",
    "    #add vectorized text to data frame\n",
    "    subreddit_data = pd.merge(X, pd.DataFrame(cv_train.toarray()), left_index=True, right_index=True)\n",
    "    \n",
    "    return subreddit_data\n",
    "    \n",
    "eval_model(vec_subreddit(X.copy()), rf)"
   ]
  },
  {
   "cell_type": "markdown",
   "metadata": {},
   "source": [
    "## Failed Experiment: Naive Bayes Feature Engineering\n",
    "We attempted to engineer features from the text fields by using a Multinomial Naive Bayes model to extract text weights which could be used as modeling features. However, this ultimately had negligible impact on model performance. "
   ]
  },
  {
   "cell_type": "code",
   "execution_count": 247,
   "metadata": {},
   "outputs": [],
   "source": [
    "# Column labels that have text fields\n",
    "def nb_features(X):\n",
    "    \"\"\"\n",
    "    Calculate Naive Bayes text weights for text fields in a given dataset\n",
    "    Apply text weights as modeling features\n",
    "    \n",
    "    args: dataset (pandas dataframe)\n",
    "    \n",
    "    return: dataset\n",
    "    \"\"\"\n",
    "    \n",
    "    #Name text columns for analysis\n",
    "    text_columns = ['request_text', 'request_text_edit_aware', 'request_title']\n",
    "    \n",
    "    #Copy data\n",
    "    nb_data = X.copy()\n",
    "    new_features = []\n",
    "    # Looping thru each text field\n",
    "    for field in text_columns:\n",
    "        # Getting corpus for current field\n",
    "        corpus = X[field]\n",
    "\n",
    "        # Defining vectorizer and getting \n",
    "        vec = CountVectorizer()\n",
    "        matrix = vec.fit_transform(corpus).toarray()\n",
    "\n",
    "        # Naive bayes classifier fitted\n",
    "        clf = MultinomialNB()\n",
    "        clf.fit(matrix, y)\n",
    "\n",
    "        # Getting coefficients for each word in corpus\n",
    "        coefs = clf.coef_\n",
    "\n",
    "        # Initializing list for new feature\n",
    "        text_weights = []\n",
    "\n",
    "        # Looping thru each text, multiply coefficient weights by frequencies, add to new feature vector\n",
    "        for row in matrix:\n",
    "            weight = (coefs * row).sum()\n",
    "            text_weights.append(weight)\n",
    "\n",
    "        # Making copy of X data and adding our new feature\n",
    "        nb_data[field] = text_weights\n",
    "\n",
    "    return nb_data, clf\n",
    "\n",
    "#nb_data, nb_clf = nb_features(X.copy())\n",
    "#eval_model(nb_data, plot_importance=True)"
   ]
  },
  {
   "cell_type": "markdown",
   "metadata": {},
   "source": [
    "## Timestamp Features\n",
    "Because the timestamp features were rated as highly important in feature importance testing, we believed there to be strong signal in the time-series nature of the data. To extract more signal from these fields, we broke the timestamps down into subordinate fields for modeling. "
   ]
  },
  {
   "cell_type": "code",
   "execution_count": 248,
   "metadata": {},
   "outputs": [
    {
     "name": "stdout",
     "output_type": "stream",
     "text": [
      "CV Model Accuracy: 74.69%\n",
      "Out of Sample Performance:\n",
      "[[940 287]\n",
      " [ 66  41]]\n",
      "              precision    recall  f1-score   support\n",
      "\n",
      "           0       0.93      0.77      0.84      1227\n",
      "           1       0.12      0.38      0.19       107\n",
      "\n",
      "    accuracy                           0.74      1334\n",
      "   macro avg       0.53      0.57      0.52      1334\n",
      "weighted avg       0.87      0.74      0.79      1334\n",
      "\n"
     ]
    },
    {
     "data": {
      "image/png": "[encoded data removed]",
      "text/plain": [
       "<Figure size 720x720 with 1 Axes>"
      ]
     },
     "metadata": {
      "needs_background": "light"
     },
     "output_type": "display_data"
    }
   ],
   "source": [
    "# Adding timestamp column to dataframe\n",
    "def determine_season(row):\n",
    "    \"\"\"\n",
    "    Given a dataframe observation, \n",
    "    Extract the season (spring, summer, etc)\n",
    "    \n",
    "    args: observation (row of pandas dataframe)\n",
    "    \n",
    "    return: int\n",
    "    \"\"\"\n",
    "    \n",
    "    #Check month int and return appropriate season\n",
    "    month = row.month\n",
    "    if month < 4:\n",
    "        return 0\n",
    "    if month < 7:\n",
    "        return 1\n",
    "    if month < 10:\n",
    "        return 2\n",
    "    return 3\n",
    "\n",
    "def apply_time(X):\n",
    "    \"\"\"\n",
    "    Given dataset, extract timestamp\n",
    "    Apply year, month, day, hour, season\n",
    "    as modeling features. \n",
    "    \n",
    "    args: dataset (pandas dataframe)\n",
    "    \n",
    "    return: dataset\n",
    "    \"\"\"\n",
    "    \n",
    "    #Extract timestamp as datetime string\n",
    "    X['date_hour'] = X.apply(lambda row: datetime.fromtimestamp(row.unix_timestamp_of_request).strftime('%Y-%m-%d-%H'), \n",
    "                                   axis = 1)\n",
    "\n",
    "    # Creating Adding New columns for year, month, day_number, hour, and season\n",
    "    X['year'] = pd.DataFrame(X.apply(lambda row: int(row.date_hour.split('-')[0]), axis = 1))\n",
    "    X['month'] = pd.DataFrame(X.apply(lambda row: int(row.date_hour.split('-')[1]), axis = 1))\n",
    "    X['day_number'] = pd.DataFrame(X.apply(lambda row: int(row.date_hour.split('-')[2]), axis = 1))\n",
    "    X['hour'] =  pd.DataFrame(X.apply(lambda row: int(row.date_hour.split('-')[3]), axis = 1))\n",
    "    X['season'] = pd.DataFrame(X.apply(lambda row: determine_season(row), axis = 1))\n",
    "    \n",
    "    return X\n",
    "\n",
    "eval_model(apply_time(X.copy()), rf, plot_importance=True)"
   ]
  },
  {
   "cell_type": "markdown",
   "metadata": {},
   "source": [
    "## Final Modeling\n",
    "After iterative experimentation, we kept the time features, sentiment features, and count vectorized features for modeling. We then iterated through multiple classification frameworks to ensure the optimal model was selected, and conducted random grid searching to optimize parameters. Finally, the model was trained on the entirety of the training data available and submissions are written out to .csv. "
   ]
  },
  {
   "cell_type": "code",
   "execution_count": 249,
   "metadata": {},
   "outputs": [
    {
     "name": "stdout",
     "output_type": "stream",
     "text": [
      "CV Model Accuracy: 75.61%\n",
      "Out of Sample Performance:\n",
      "[[996 302]\n",
      " [ 10  26]]\n",
      "              precision    recall  f1-score   support\n",
      "\n",
      "           0       0.99      0.77      0.86      1298\n",
      "           1       0.08      0.72      0.14        36\n",
      "\n",
      "    accuracy                           0.77      1334\n",
      "   macro avg       0.53      0.74      0.50      1334\n",
      "weighted avg       0.97      0.77      0.85      1334\n",
      "\n"
     ]
    }
   ],
   "source": [
    "#Create new dataset applying all feature engineering functions\n",
    "model_data = apply_time(X)\n",
    "model_data = sentiment_analyze(model_data)\n",
    "model_data = count_vectorize(model_data)\n",
    "\n",
    "#Evaluate model\n",
    "eval_model(model_data, rf)"
   ]
  },
  {
   "cell_type": "code",
   "execution_count": 250,
   "metadata": {},
   "outputs": [
    {
     "name": "stdout",
     "output_type": "stream",
     "text": [
      "RandomForestClassifier()\n",
      "CV Model Accuracy: 75.76%\n",
      "Out of Sample Performance:\n",
      "[[991 297]\n",
      " [ 15  31]]\n",
      "              precision    recall  f1-score   support\n",
      "\n",
      "           0       0.99      0.77      0.86      1288\n",
      "           1       0.09      0.67      0.17        46\n",
      "\n",
      "    accuracy                           0.77      1334\n",
      "   macro avg       0.54      0.72      0.51      1334\n",
      "weighted avg       0.95      0.77      0.84      1334\n",
      "\n",
      "LogisticRegression()\n",
      "CV Model Accuracy: 75.39%\n",
      "Out of Sample Performance:\n",
      "[[1006  328]\n",
      " [   0    0]]\n",
      "              precision    recall  f1-score   support\n",
      "\n",
      "           0       1.00      0.75      0.86      1334\n",
      "           1       0.00      0.00      0.00         0\n",
      "\n",
      "    accuracy                           0.75      1334\n",
      "   macro avg       0.50      0.38      0.43      1334\n",
      "weighted avg       1.00      0.75      0.86      1334\n",
      "\n",
      "SVC()\n"
     ]
    },
    {
     "name": "stderr",
     "output_type": "stream",
     "text": [
      "C:\\Users\\conner.brew\\Anaconda3\\lib\\site-packages\\sklearn\\metrics\\_classification.py:1221: UndefinedMetricWarning: Recall and F-score are ill-defined and being set to 0.0 in labels with no true samples. Use `zero_division` parameter to control this behavior.\n",
      "  _warn_prf(average, modifier, msg_start, len(result))\n"
     ]
    },
    {
     "name": "stdout",
     "output_type": "stream",
     "text": [
      "CV Model Accuracy: 75.39%\n",
      "Out of Sample Performance:\n",
      "[[1006  328]\n",
      " [   0    0]]\n",
      "              precision    recall  f1-score   support\n",
      "\n",
      "           0       1.00      0.75      0.86      1334\n",
      "           1       0.00      0.00      0.00         0\n",
      "\n",
      "    accuracy                           0.75      1334\n",
      "   macro avg       0.50      0.38      0.43      1334\n",
      "weighted avg       1.00      0.75      0.86      1334\n",
      "\n"
     ]
    },
    {
     "name": "stderr",
     "output_type": "stream",
     "text": [
      "C:\\Users\\conner.brew\\Anaconda3\\lib\\site-packages\\sklearn\\metrics\\_classification.py:1221: UndefinedMetricWarning: Recall and F-score are ill-defined and being set to 0.0 in labels with no true samples. Use `zero_division` parameter to control this behavior.\n",
      "  _warn_prf(average, modifier, msg_start, len(result))\n"
     ]
    }
   ],
   "source": [
    "#Iterate through multiple modeling frameworks to choose optimal model\n",
    "models = [RandomForestClassifier(), LogisticRegression(), SVC()]\n",
    "for model in models:\n",
    "    print(model)\n",
    "    eval_model(model_data, model)"
   ]
  },
  {
   "cell_type": "code",
   "execution_count": 251,
   "metadata": {},
   "outputs": [
    {
     "name": "stdout",
     "output_type": "stream",
     "text": [
      "Fitting 3 folds for each of 10 candidates, totalling 30 fits\n"
     ]
    },
    {
     "name": "stderr",
     "output_type": "stream",
     "text": [
      "[Parallel(n_jobs=-1)]: Using backend LokyBackend with 8 concurrent workers.\n",
      "[Parallel(n_jobs=-1)]: Done  30 out of  30 | elapsed:   35.2s finished\n"
     ]
    },
    {
     "name": "stdout",
     "output_type": "stream",
     "text": [
      "{'n_estimators': 1200, 'min_samples_split': 2, 'min_samples_leaf': 1, 'max_features': 'sqrt', 'max_depth': 100, 'bootstrap': True}\n"
     ]
    }
   ],
   "source": [
    "#Extract only int and float features from final dataset\n",
    "model_data = model_data.select_dtypes(np.number)\n",
    "#test train split\n",
    "X_train, X_test, y_train, y_test = train_test_split(model_data, y, test_size=0.33, random_state=42, stratify=y)\n",
    "\n",
    "#Initialize list of parameters for randomized search\n",
    "n_estimators = [int(x) for x in np.linspace(start = 200, stop = 2000, num = 10)]\n",
    "max_features = ['auto', 'sqrt']\n",
    "max_depth = [int(x) for x in np.linspace(10, 110, num = 11)]\n",
    "max_depth.append(None)\n",
    "min_samples_split = [2, 5, 10]\n",
    "min_samples_leaf = [1, 2, 4]\n",
    "bootstrap = [True, False]\n",
    "\n",
    "# Create the random grid\n",
    "param_grid = {'n_estimators': n_estimators,\n",
    "               'max_features': max_features,\n",
    "               'max_depth': max_depth,\n",
    "               'min_samples_split': min_samples_split,\n",
    "               'min_samples_leaf': min_samples_leaf,\n",
    "               'bootstrap': bootstrap}\n",
    "\n",
    "#Conduct random parameter search to identify optimal parameters\n",
    "rf = RandomForestClassifier()\n",
    "grid_search = RandomizedSearchCV(estimator = rf, param_distributions = param_grid, cv = 3, n_jobs = -1, verbose = 2)\n",
    "grid_search.fit(X_train, y_train)\n",
    "\n",
    "best_params = grid_search.best_params_"
   ]
  },
  {
   "cell_type": "code",
   "execution_count": 252,
   "metadata": {},
   "outputs": [
    {
     "name": "stdout",
     "output_type": "stream",
     "text": [
      "CV Model Accuracy: 76.2%\n",
      "Out of Sample Performance:\n",
      "[[998 300]\n",
      " [  8  28]]\n",
      "              precision    recall  f1-score   support\n",
      "\n",
      "           0       0.99      0.77      0.87      1298\n",
      "           1       0.09      0.78      0.15        36\n",
      "\n",
      "    accuracy                           0.77      1334\n",
      "   macro avg       0.54      0.77      0.51      1334\n",
      "weighted avg       0.97      0.77      0.85      1334\n",
      "\n"
     ]
    }
   ],
   "source": [
    "#Create and evaluate a model using optimal parameters\n",
    "optimized_rf = RandomForestClassifier(\n",
    "    n_estimators=best_params['n_estimators'],\n",
    "    min_samples_split=best_params['min_samples_split'],\n",
    "    min_samples_leaf=best_params['min_samples_leaf'],\n",
    "    max_features=best_params['max_features'],\n",
    "    max_depth=best_params['max_depth'],\n",
    "    bootstrap=best_params['n_estimators']\n",
    ")\n",
    "\n",
    "eval_model(model_data, optimized_rf)"
   ]
  },
  {
   "cell_type": "code",
   "execution_count": 253,
   "metadata": {},
   "outputs": [],
   "source": [
    "#Initialize a final model for submission\n",
    "final_rf = RandomForestClassifier(\n",
    "    n_estimators=best_params['n_estimators'],\n",
    "    min_samples_split=best_params['min_samples_split'],\n",
    "    min_samples_leaf=best_params['min_samples_leaf'],\n",
    "    max_features=best_params['max_features'],\n",
    "    max_depth=best_params['max_depth'],\n",
    "    bootstrap=best_params['n_estimators']\n",
    ")\n",
    "\n",
    "#Fit the model on all training data available\n",
    "final_rf.fit(model_data, y)\n",
    "\n",
    "#Load test data and engineer features\n",
    "test_data = pd.read_json('data/test/test.json')\n",
    "test_data = apply_time(test_data)\n",
    "test_data = sentiment_analyze(test_data)\n",
    "test_data = count_vectorize(test_data)\n",
    "\n",
    "test_data = test_data.select_dtypes(np.number)"
   ]
  },
  {
   "cell_type": "code",
   "execution_count": 254,
   "metadata": {},
   "outputs": [],
   "source": [
    "#Make predictions\n",
    "yhat = final_rf.predict(test_data)"
   ]
  },
  {
   "cell_type": "code",
   "execution_count": 255,
   "metadata": {},
   "outputs": [],
   "source": [
    "#Create and write submission file\n",
    "submission = pd.DataFrame(data = {\n",
    "    'request_id': list(pd.read_json('data/test/test.json')['request_id']),\n",
    "    'requester_received_pizza': yhat\n",
    "})\n",
    "\n",
    "submission.to_csv('submission.csv')"
   ]
  }
 ],
 "metadata": {
  "kernelspec": {
   "display_name": "Python 3",
   "language": "python",
   "name": "python3"
  },
  "language_info": {
   "codemirror_mode": {
    "name": "ipython",
    "version": 3
   },
   "file_extension": ".py",
   "mimetype": "text/x-python",
   "name": "python",
   "nbconvert_exporter": "python",
   "pygments_lexer": "ipython3",
   "version": "3.8.5"
  }
 },
 "nbformat": 4,
 "nbformat_minor": 4
}
