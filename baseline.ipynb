{
 "cells": [
  {
   "cell_type": "code",
   "execution_count": 26,
   "metadata": {},
   "outputs": [],
   "source": [
    "import os \n",
    "import pandas as pd\n",
    "import numpy as np\n",
    "from sklearn.model_selection import cross_val_score\n",
    "from sklearn.ensemble import RandomForestClassifier"
   ]
  },
  {
   "cell_type": "code",
   "execution_count": 30,
   "metadata": {},
   "outputs": [
    {
     "name": "stdout",
     "output_type": "stream",
     "text": [
      "Roughly 25% of requests receive pizza.\n"
     ]
    }
   ],
   "source": [
    "#load in training data. We will use this as both train and test, and save 'test.json' for validation\n",
    "data = pd.read_json('data/train/train.json').rename(columns = {'requester_received_pizza': 'target'})\n",
    "\n",
    "#Change the boolean target variable to an int\n",
    "data['target'] = data['target'].astype(int)\n",
    "\n",
    "#Get a rough idea of target baseline\n",
    "baseline = round(sum(data['target']) / len(data['target']), 2)\n",
    "print(f'Roughly {int(baseline * 100)}% of requests receive pizza.')"
   ]
  },
  {
   "cell_type": "code",
   "execution_count": 40,
   "metadata": {},
   "outputs": [],
   "source": [
    "#The most basic possible model - extract only int variables, no transformations\n",
    "int_data = data.select_dtypes(np.number)\n",
    "y = int_data['target']\n",
    "X = int_data.drop('target', axis=1)\n",
    "\n",
    "#Default randomforest with cross validation\n",
    "baseline_clf = RandomForestClassifier(max_depth=5, random_state=0)\n",
    "scores = cross_val_score(baseline_clf, X, y, cv=5)"
   ]
  },
  {
   "cell_type": "code",
   "execution_count": 44,
   "metadata": {},
   "outputs": [
    {
     "name": "stdout",
     "output_type": "stream",
     "text": [
      "Baseline model accuracy: 85.0%\n"
     ]
    }
   ],
   "source": [
    "print(f'Baseline model accuracy: {round(np.mean(scores), 2) * 100}%')"
   ]
  },
  {
   "cell_type": "code",
   "execution_count": null,
   "metadata": {},
   "outputs": [],
   "source": []
  }
 ],
 "metadata": {
  "kernelspec": {
   "display_name": "Python 3",
   "language": "python",
   "name": "python3"
  },
  "language_info": {
   "codemirror_mode": {
    "name": "ipython",
    "version": 3
   },
   "file_extension": ".py",
   "mimetype": "text/x-python",
   "name": "python",
   "nbconvert_exporter": "python",
   "pygments_lexer": "ipython3",
   "version": "3.8.5"
  }
 },
 "nbformat": 4,
 "nbformat_minor": 4
}
