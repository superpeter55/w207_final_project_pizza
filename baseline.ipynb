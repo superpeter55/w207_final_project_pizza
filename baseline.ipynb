{
 "cells": [
  {
   "cell_type": "markdown",
   "metadata": {},
   "source": [
    "# Project Pizza\n",
    "### Class w207, Todd Holloway\n",
    "### Conner Brew, Maddie DiLullo Byrne, Joy Jiang, Peter Morgan"
   ]
  },
  {
   "cell_type": "markdown",
   "metadata": {},
   "source": [
    "#### Loading Packages"
   ]
  },
  {
   "cell_type": "code",
   "execution_count": 1,
   "metadata": {},
   "outputs": [],
   "source": [
    "%matplotlib inline\n",
    "\n",
    "import os \n",
    "import pandas as pd\n",
    "import numpy as np\n",
    "import matplotlib.pyplot as plt\n",
    "from sklearn.model_selection import cross_val_score\n",
    "from sklearn.ensemble import RandomForestClassifier\n",
    "from sklearn.linear_model import LogisticRegression\n",
    "from sklearn.feature_extraction.text import CountVectorizer"
   ]
  },
  {
   "cell_type": "markdown",
   "metadata": {},
   "source": [
    "#### Loading Data"
   ]
  },
  {
   "cell_type": "code",
   "execution_count": 2,
   "metadata": {},
   "outputs": [],
   "source": [
    "#Version 1: Including all of the retrieval fields\n",
    "#load in training data. We will use this as both train and dev, and save 'test.json' for validation\n",
    "data = pd.read_json('data/train/train.json').rename(columns = {'requester_received_pizza': 'target'})\n",
    "\n",
    "#Change the boolean target variable to an int\n",
    "data['target'] = data['target'].astype(int)"
   ]
  },
  {
   "cell_type": "code",
   "execution_count": 3,
   "metadata": {},
   "outputs": [],
   "source": [
    "#Version 2: Removing retrieval fields from dataset\n",
    "#Remove all columns containing information obtained at retrieval\n",
    "data_nr = data.loc[:, ~data.columns.isin(data.filter(regex='retrieval').columns)]\n",
    "# data_nr.columns"
   ]
  },
  {
   "cell_type": "markdown",
   "metadata": {},
   "source": [
    " #### Initial Metrics for Exploratory Elements"
   ]
  },
  {
   "cell_type": "code",
   "execution_count": 4,
   "metadata": {},
   "outputs": [
    {
     "name": "stdout",
     "output_type": "stream",
     "text": [
      "Roughly 25% of requests receive pizza.\n"
     ]
    }
   ],
   "source": [
    "#Get a rough idea of target baseline\n",
    "baseline = round(sum(data['target']) / len(data['target']), 2)\n",
    "print(f'Roughly {int(baseline * 100)}% of requests receive pizza.')"
   ]
  },
  {
   "cell_type": "code",
   "execution_count": 5,
   "metadata": {},
   "outputs": [
    {
     "data": {
      "image/png": "[encoded data removed]",
      "text/plain": [
       "<Figure size 432x288 with 1 Axes>"
      ]
     },
     "metadata": {
      "needs_background": "light"
     },
     "output_type": "display_data"
    }
   ],
   "source": [
    "# Adding visual representation of the request received & ratio of those receiving pizza\n",
    "plot = data['target'].value_counts(sort=False).plot.bar()\n",
    "plt.xlabel(\"Likelihood of Receiving Pizza\")\n",
    "plt.ylabel(\"Number of Pizza Requests\")\n",
    "plt.title(\"Overview Comparison of Pizza Request Fulfillment\")\n",
    "\n",
    "labels = [item for item in plt.xticks()]\n",
    "labels[0] = \"Did Not Receive Pizza\"\n",
    "labels[1] = \"Received Pizza\"\n",
    "\n",
    "plt.xticks([0, 1], ['Did Not Receive Pizza', 'Received Pizza'], rotation=30)\n",
    "\n",
    "\n",
    "plt.show()"
   ]
  },
  {
   "cell_type": "markdown",
   "metadata": {},
   "source": [
    "#### Random Forest Modeling & Validation"
   ]
  },
  {
   "cell_type": "markdown",
   "metadata": {},
   "source": [
    "**Random Forest Calculation with Retrieval Fields**"
   ]
  },
  {
   "cell_type": "code",
   "execution_count": 6,
   "metadata": {},
   "outputs": [],
   "source": [
    "#The most basic possible model - extract only int variables, no transformations\n",
    "int_data = data.select_dtypes(np.number)\n",
    "y = int_data['target']\n",
    "X = int_data.drop('target', axis=1)\n",
    "\n",
    "#Default randomforest with cross validation\n",
    "baseline_clf = RandomForestClassifier(max_depth=5, random_state=0)\n",
    "scores = cross_val_score(baseline_clf, X, y, cv=5)"
   ]
  },
  {
   "cell_type": "code",
   "execution_count": 7,
   "metadata": {},
   "outputs": [
    {
     "name": "stdout",
     "output_type": "stream",
     "text": [
      "Baseline model accuracy with retrieval fields: 85.0%\n"
     ]
    }
   ],
   "source": [
    "print(f'Baseline model accuracy with retrieval fields: {round(np.mean(scores), 2) * 100}%')"
   ]
  },
  {
   "cell_type": "markdown",
   "metadata": {
    "scrolled": false
   },
   "source": [
    "**Random Forest Calculation without Retrieval Fields**"
   ]
  },
  {
   "cell_type": "code",
   "execution_count": 8,
   "metadata": {},
   "outputs": [
    {
     "name": "stdout",
     "output_type": "stream",
     "text": [
      "Baseline model accuracy without retrieval fields: 76.0%\n"
     ]
    }
   ],
   "source": [
    "#The most basic possible model - extract only int variables, no transformations\n",
    "int_data = data_nr.select_dtypes(np.number)\n",
    "y = int_data['target']\n",
    "X = int_data.drop('target', axis=1)\n",
    "\n",
    "#Default randomforest with cross validation\n",
    "baseline_clf = RandomForestClassifier(max_depth=5, random_state=0)\n",
    "scores = cross_val_score(baseline_clf, X, y, cv=5)\n",
    "\n",
    "print(f'Baseline model accuracy without retrieval fields: {round(np.mean(scores), 2) * 100}%')"
   ]
  },
  {
   "cell_type": "markdown",
   "metadata": {},
   "source": [
    "#### Looking at the data from a unigram logistic regression perspective"
   ]
  },
  {
   "cell_type": "code",
   "execution_count": 9,
   "metadata": {},
   "outputs": [
    {
     "data": {
      "text/plain": [
       "((2693,), (1347,))"
      ]
     },
     "execution_count": 9,
     "metadata": {},
     "output_type": "execute_result"
    }
   ],
   "source": [
    "# Load Train Data\n",
    "train_data = data['request_title']\n",
    "train_labels = data['target']\n",
    "# I decided to dedicate 2/3rds to the training set, and 1/3rd to the dev set\n",
    "twothirds = int(train_data.shape[0]*2/3)\n",
    "# Splitting into the training & dev sets\n",
    "dev_data = train_data[twothirds:]\n",
    "dev_labels = train_labels[twothirds:]\n",
    "\n",
    "train_data = train_data[:twothirds]\n",
    "train_labels = train_labels[:twothirds]\n",
    "\n",
    "train_data.shape, dev_data.shape"
   ]
  },
  {
   "cell_type": "code",
   "execution_count": 10,
   "metadata": {},
   "outputs": [
    {
     "data": {
      "text/html": [
       "<div>\n",
       "<style scoped>\n",
       "    .dataframe tbody tr th:only-of-type {\n",
       "        vertical-align: middle;\n",
       "    }\n",
       "\n",
       "    .dataframe tbody tr th {\n",
       "        vertical-align: top;\n",
       "    }\n",
       "\n",
       "    .dataframe thead th {\n",
       "        text-align: right;\n",
       "    }\n",
       "</style>\n",
       "<table border=\"1\" class=\"dataframe\">\n",
       "  <thead>\n",
       "    <tr style=\"text-align: right;\">\n",
       "      <th></th>\n",
       "    </tr>\n",
       "  </thead>\n",
       "  <tbody>\n",
       "    <tr>\n",
       "      <th>request broke until</th>\n",
       "    </tr>\n",
       "    <tr>\n",
       "      <th>sad story</th>\n",
       "    </tr>\n",
       "    <tr>\n",
       "      <th>chicago il</th>\n",
       "    </tr>\n",
       "    <tr>\n",
       "      <th>request college</th>\n",
       "    </tr>\n",
       "    <tr>\n",
       "      <th>for broke</th>\n",
       "    </tr>\n",
       "    <tr>\n",
       "      <th>for our</th>\n",
       "    </tr>\n",
       "    <tr>\n",
       "      <th>college girl</th>\n",
       "    </tr>\n",
       "    <tr>\n",
       "      <th>my dog</th>\n",
       "    </tr>\n",
       "    <tr>\n",
       "      <th>to get</th>\n",
       "    </tr>\n",
       "    <tr>\n",
       "      <th>request ve</th>\n",
       "    </tr>\n",
       "  </tbody>\n",
       "</table>\n",
       "</div>"
      ],
      "text/plain": [
       "Empty DataFrame\n",
       "Columns: []\n",
       "Index: [request broke until, sad story, chicago il, request college, for broke, for our, college girl, my dog, to get, request ve]"
      ]
     },
     "metadata": {},
     "output_type": "display_data"
    }
   ],
   "source": [
    "# Load Train Data\n",
    "train_data = data['request_title']\n",
    "train_labels = data['target']\n",
    "# I decided to dedicate 2/3rds to the training set, and 1/3rd to the dev set\n",
    "twothirds = int(train_data.shape[0]*2/3)\n",
    "# Splitting into the training & dev sets\n",
    "dev_data = train_data[twothirds:]\n",
    "dev_labels = train_labels[twothirds:]\n",
    "\n",
    "train_data = train_data[:twothirds]\n",
    "train_labels = train_labels[:twothirds]\n",
    "\n",
    "\n",
    "# Transforming data into unigram matrix\n",
    "vector = CountVectorizer(analyzer = \"word\", ngram_range=(2,3)) #Using a flexible range ngram to allow for common phrases that occur in requests\n",
    "matrix = vector.fit_transform(train_data)\n",
    "# Performing the logistic regression on the training data   \n",
    "log_reg = LogisticRegression(C=.5, solver=\"liblinear\", multi_class=\"auto\")\n",
    "log_reg.fit(matrix, train_labels)\n",
    "# Calculating the weights for the top 10 heaviest weights \n",
    "weights = log_reg.coef_\n",
    "heaviest_10 = (-weights).argsort(axis=1)[:,:10].flatten()\n",
    "# Finding the features associated to the top 10 heaviest weights\n",
    "features = [vector.get_feature_names()[weight] for weight in heaviest_10]\n",
    "\n",
    "[vector.get_feature_names()[weight] for weight in heaviest_10]\n",
    "for i in features:\n",
    "    dataframe = pd.DataFrame(index = features)\n",
    "\n",
    "            \n",
    "display(dataframe)\n"
   ]
  },
  {
   "cell_type": "code",
   "execution_count": 11,
   "metadata": {},
   "outputs": [
    {
     "data": {
      "text/html": [
       "<div>\n",
       "<style scoped>\n",
       "    .dataframe tbody tr th:only-of-type {\n",
       "        vertical-align: middle;\n",
       "    }\n",
       "\n",
       "    .dataframe tbody tr th {\n",
       "        vertical-align: top;\n",
       "    }\n",
       "\n",
       "    .dataframe thead th {\n",
       "        text-align: right;\n",
       "    }\n",
       "</style>\n",
       "<table border=\"1\" class=\"dataframe\">\n",
       "  <thead>\n",
       "    <tr style=\"text-align: right;\">\n",
       "      <th></th>\n",
       "    </tr>\n",
       "  </thead>\n",
       "  <tbody>\n",
       "    <tr>\n",
       "      <th>person</th>\n",
       "    </tr>\n",
       "    <tr>\n",
       "      <th>beans</th>\n",
       "    </tr>\n",
       "    <tr>\n",
       "      <th>aren</th>\n",
       "    </tr>\n",
       "    <tr>\n",
       "      <th>basic</th>\n",
       "    </tr>\n",
       "    <tr>\n",
       "      <th>helping</th>\n",
       "    </tr>\n",
       "    <tr>\n",
       "      <th>surprise</th>\n",
       "    </tr>\n",
       "    <tr>\n",
       "      <th>proof</th>\n",
       "    </tr>\n",
       "    <tr>\n",
       "      <th>students</th>\n",
       "    </tr>\n",
       "    <tr>\n",
       "      <th>around</th>\n",
       "    </tr>\n",
       "    <tr>\n",
       "      <th>ones</th>\n",
       "    </tr>\n",
       "  </tbody>\n",
       "</table>\n",
       "</div>"
      ],
      "text/plain": [
       "Empty DataFrame\n",
       "Columns: []\n",
       "Index: [person, beans, aren, basic, helping, surprise, proof, students, around, ones]"
      ]
     },
     "metadata": {},
     "output_type": "display_data"
    }
   ],
   "source": [
    "# Load Train Data\n",
    "train_data = data['request_text']\n",
    "train_labels = data['target']\n",
    "# I decided to dedicate 2/3rds to the training set, and 1/3rd to the dev set\n",
    "twothirds = int(train_data.shape[0]*2/3)\n",
    "# Splitting into the training & dev sets\n",
    "dev_data = train_data[twothirds:]\n",
    "dev_labels = train_labels[twothirds:]\n",
    "\n",
    "train_data = train_data[:twothirds]\n",
    "train_labels = train_labels[:twothirds]\n",
    "\n",
    "\n",
    "# Transforming data into unigram matrix\n",
    "vector = CountVectorizer(analyzer = \"word\") #Using a flexible range ngram to allow for common phrases that occur in requests\n",
    "matrix = vector.fit_transform(train_data)\n",
    "# Performing the logistic regression on the training data   \n",
    "log_reg = LogisticRegression(C=.5, solver=\"liblinear\", multi_class=\"auto\")\n",
    "log_reg.fit(matrix, train_labels)\n",
    "# Calculating the weights for the top 10 heaviest weights \n",
    "weights = log_reg.coef_\n",
    "heaviest_10 = (-weights).argsort(axis=1)[:,:10].flatten()\n",
    "# Finding the features associated to the top 10 heaviest weights\n",
    "features = [vector.get_feature_names()[weight] for weight in heaviest_10]\n",
    "\n",
    "[vector.get_feature_names()[weight] for weight in heaviest_10]\n",
    "for i in features:\n",
    "    dataframe = pd.DataFrame(index = features)\n",
    "\n",
    "            \n",
    "display(dataframe)\n"
   ]
  },
  {
   "cell_type": "code",
   "execution_count": null,
   "metadata": {},
   "outputs": [],
   "source": []
  },
  {
   "cell_type": "code",
   "execution_count": null,
   "metadata": {},
   "outputs": [],
   "source": []
  },
  {
   "cell_type": "code",
   "execution_count": null,
   "metadata": {},
   "outputs": [],
   "source": []
  },
  {
   "cell_type": "markdown",
   "metadata": {},
   "source": [
    "### Other elements to explore:\n",
    "- Some more exploratory analysis on numeric data present (i.e. normalization of the data) & being able to customize metrics that could also have an impact (average upvotes over duration from retrieval).\n",
    "- Parsing out the logistic regression of the unigram modeling to see if there are specific phrases that lead to more success/failure of receiving pizza"
   ]
  },
  {
   "cell_type": "code",
   "execution_count": null,
   "metadata": {},
   "outputs": [],
   "source": []
  }
 ],
 "metadata": {
  "kernelspec": {
   "display_name": "Python 3 (ipykernel)",
   "language": "python",
   "name": "python3"
  },
  "language_info": {
   "codemirror_mode": {
    "name": "ipython",
    "version": 3
   },
   "file_extension": ".py",
   "mimetype": "text/x-python",
   "name": "python",
   "nbconvert_exporter": "python",
   "pygments_lexer": "ipython3",
   "version": "3.9.7"
  }
 },
 "nbformat": 4,
 "nbformat_minor": 4
}
