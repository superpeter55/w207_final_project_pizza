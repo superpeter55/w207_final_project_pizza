{
 "cells": [
  {
   "cell_type": "markdown",
   "metadata": {},
   "source": [
    "# Project Pizza\n",
    "### Class w207, Todd Holloway\n",
    "### Conner Brew, Maddie DiLullo Byrne, Joy Jiang, Peter Morgan"
   ]
  },
  {
   "cell_type": "markdown",
   "metadata": {},
   "source": [
    "#### Loading Packages"
   ]
  },
  {
   "cell_type": "code",
   "execution_count": 420,
   "metadata": {},
   "outputs": [],
   "source": [
    "%matplotlib inline\n",
    "\n",
    "import os \n",
    "import pandas as pd\n",
    "import numpy as np\n",
    "import matplotlib.pyplot as plt\n",
    "from datetime import datetime\n",
    "from sklearn.model_selection import cross_val_score\n",
    "from sklearn.ensemble import RandomForestClassifier\n",
    "from sklearn.linear_model import LogisticRegression\n",
    "from sklearn.feature_extraction.text import CountVectorizer\n",
    "from sklearn.naive_bayes import MultinomialNB\n",
    "from sklearn.naive_bayes import BernoulliNB"
   ]
  },
  {
   "cell_type": "markdown",
   "metadata": {},
   "source": [
    "#### Loading Data"
   ]
  },
  {
   "cell_type": "code",
   "execution_count": 293,
   "metadata": {},
   "outputs": [],
   "source": [
    "#load in training data. We will use this as both train and dev, and save 'test.json' for validation\n",
    "data = pd.read_json('data/train/train.json').rename(columns = {'requester_received_pizza': 'target'})\n",
    "data_test = pd.read_json('data/test/test.json')\n",
    "\n",
    "#Change the boolean target variable to an int\n",
    "data['target'] = data['target'].astype(int)"
   ]
  },
  {
   "cell_type": "code",
   "execution_count": 425,
   "metadata": {},
   "outputs": [],
   "source": [
    "# Adding timestamp column to dataframe\n",
    "data['date_hour'] = data.apply(lambda row: datetime.fromtimestamp(row.unix_timestamp_of_request).strftime('%Y-%m-%d-%H'), \n",
    "                               axis = 1)\n",
    "\n",
    "# Function to determine season\n",
    "def determine_season(row):\n",
    "    month = row.month\n",
    "    if month < 4:\n",
    "        return 0\n",
    "    if month < 7:\n",
    "        return 1\n",
    "    if month < 10:\n",
    "        return 2\n",
    "    return 3\n",
    "\n",
    "# Creating Adding New columns for year, month, day_number, hour, and season\n",
    "data['year'] = pd.DataFrame(data.apply(lambda row: int(row.date_hour.split('-')[0]), axis = 1))\n",
    "data['month'] = pd.DataFrame(data.apply(lambda row: int(row.date_hour.split('-')[1]), axis = 1))\n",
    "data['day_number'] = pd.DataFrame(data.apply(lambda row: int(row.date_hour.split('-')[2]), axis = 1))\n",
    "data['hour'] =  pd.DataFrame(data.apply(lambda row: int(row.date_hour.split('-')[3]), axis = 1))\n",
    "data['season'] = pd.DataFrame(data.apply(lambda row: determine_season(row), axis = 1))"
   ]
  },
  {
   "cell_type": "code",
   "execution_count": 435,
   "metadata": {},
   "outputs": [],
   "source": [
    "# Making random act of pizza involvement function\n",
    "\n",
    "# Defining Upvotes per post function\n",
    "def upvotes_per_post(upvotes_minus_downvotes, n_posts):\n",
    "    if n_posts == 0:\n",
    "        return 0\n",
    "    return (upvotes_minus_downvotes) / (n_posts)\n",
    "\n",
    "# Creating Upvotes per post column\n",
    "data['upvotes_per_post'] = pd.DataFrame(data.apply(lambda row: upvotes_per_post(row.requester_upvotes_minus_downvotes_at_request,\n",
    "                                                                                     row.requester_number_of_posts_at_request),\n",
    "                                                        axis = 1))"
   ]
  },
  {
   "cell_type": "code",
   "execution_count": 437,
   "metadata": {},
   "outputs": [],
   "source": [
    "#Removing retrieval fields from dataset\n",
    "#Remove all columns containing information obtained at retrieval\n",
    "data_nr = data.loc[:, ~data.columns.isin(data.filter(regex='retrieval').columns)]"
   ]
  },
  {
   "cell_type": "markdown",
   "metadata": {},
   "source": [
    "# Testing Models\n",
    "#### Baseline Model"
   ]
  },
  {
   "cell_type": "code",
   "execution_count": 439,
   "metadata": {},
   "outputs": [
    {
     "name": "stdout",
     "output_type": "stream",
     "text": [
      "Baseline model accuracy without retrieval fields: 76.436%\n"
     ]
    }
   ],
   "source": [
    "# Defining Baseline Features\n",
    "baseline_features = ['post_was_edited', 'requester_account_age_in_days_at_request',\n",
    "       'requester_days_since_first_post_on_raop_at_request',\n",
    "       'requester_number_of_comments_at_request',\n",
    "       'requester_number_of_comments_in_raop_at_request',\n",
    "       'requester_number_of_posts_at_request',\n",
    "       'requester_number_of_posts_on_raop_at_request',\n",
    "       'requester_number_of_subreddits_at_request', 'target',\n",
    "       'requester_upvotes_minus_downvotes_at_request',\n",
    "       'requester_upvotes_plus_downvotes_at_request',\n",
    "       'unix_timestamp_of_request', 'unix_timestamp_of_request_utc']\n",
    "\n",
    "# Getting Correct Features\n",
    "selected_data = data_nr[baseline_features]\n",
    "y = selected_data['target']\n",
    "X = selected_data.drop('target', axis=1)\n",
    "\n",
    "#Default randomforest with cross validation\n",
    "baseline_clf = RandomForestClassifier(max_depth=5, random_state=0)\n",
    "scores = cross_val_score(baseline_clf, X, y, cv=5)\n",
    "\n",
    "print(f'Baseline model accuracy without retrieval fields: {round(np.mean(scores), 5) * 100}%')"
   ]
  },
  {
   "cell_type": "markdown",
   "metadata": {},
   "source": [
    "#### Baseline plus Year, Month, Day Number, Hour"
   ]
  },
  {
   "cell_type": "code",
   "execution_count": 440,
   "metadata": {},
   "outputs": [
    {
     "name": "stdout",
     "output_type": "stream",
     "text": [
      "Model accuracy: 76.559%\n"
     ]
    }
   ],
   "source": [
    "# Baseline Features\n",
    "baseline_features = ['post_was_edited', 'requester_account_age_in_days_at_request',\n",
    "       'requester_days_since_first_post_on_raop_at_request',\n",
    "       'requester_number_of_comments_at_request',\n",
    "       'requester_number_of_comments_in_raop_at_request',\n",
    "       'requester_number_of_posts_at_request',\n",
    "       'requester_number_of_posts_on_raop_at_request',\n",
    "       'requester_number_of_subreddits_at_request', 'target',\n",
    "       'requester_upvotes_minus_downvotes_at_request',\n",
    "       'requester_upvotes_plus_downvotes_at_request',\n",
    "       'unix_timestamp_of_request', 'unix_timestamp_of_request_utc']\n",
    "\n",
    "# Additional features\n",
    "additional_features = ['year', 'month', 'day_number', 'hour']\n",
    "new_features = baseline_features + additional_features\n",
    "\n",
    "# Selecting Features from dataframe\n",
    "selected_data = data_nr[new_features]\n",
    "y = selected_data['target']\n",
    "X = selected_data.drop('target', axis=1)\n",
    "\n",
    "#randomforest with cross validation\n",
    "baseline_clf = RandomForestClassifier(max_depth=5, random_state=0)\n",
    "scores = cross_val_score(baseline_clf, X, y, cv=5)\n",
    "\n",
    "print(f'Model accuracy: {round(np.mean(scores), 5) * 100}%')"
   ]
  },
  {
   "cell_type": "markdown",
   "metadata": {},
   "source": [
    "#### Baseline + Season"
   ]
  },
  {
   "cell_type": "code",
   "execution_count": 444,
   "metadata": {},
   "outputs": [
    {
     "name": "stdout",
     "output_type": "stream",
     "text": [
      "Model accuracy: 76.262%\n"
     ]
    }
   ],
   "source": [
    "# Baseline Features\n",
    "baseline_features = ['post_was_edited', 'requester_account_age_in_days_at_request',\n",
    "       'requester_days_since_first_post_on_raop_at_request',\n",
    "       'requester_number_of_comments_at_request',\n",
    "       'requester_number_of_comments_in_raop_at_request',\n",
    "       'requester_number_of_posts_at_request',\n",
    "       'requester_number_of_posts_on_raop_at_request',\n",
    "       'requester_number_of_subreddits_at_request', 'target',\n",
    "       'requester_upvotes_minus_downvotes_at_request',\n",
    "       'requester_upvotes_plus_downvotes_at_request',\n",
    "       'unix_timestamp_of_request', 'unix_timestamp_of_request_utc']\n",
    "\n",
    "# Additional features\n",
    "additional_features = ['season']\n",
    "new_features = baseline_features + additional_features\n",
    "\n",
    "# Selecting Features from dataframe\n",
    "selected_data = data_nr[new_features]\n",
    "y = selected_data['target']\n",
    "X = selected_data.drop('target', axis=1)\n",
    "\n",
    "#randomforest with cross validation\n",
    "baseline_clf = RandomForestClassifier(max_depth=5, random_state=0)\n",
    "scores = cross_val_score(baseline_clf, X, y, cv=5)\n",
    "\n",
    "print(f'Model accuracy: {round(np.mean(scores), 5) * 100}%')"
   ]
  },
  {
   "cell_type": "markdown",
   "metadata": {},
   "source": [
    "#### Baseline + Upvotes Per Post metric"
   ]
  },
  {
   "cell_type": "code",
   "execution_count": 441,
   "metadata": {},
   "outputs": [
    {
     "name": "stdout",
     "output_type": "stream",
     "text": [
      "Baseline model accuracy without retrieval fields: 76.238%\n"
     ]
    }
   ],
   "source": [
    "# Baseline Features\n",
    "baseline_features = ['post_was_edited', 'requester_account_age_in_days_at_request',\n",
    "       'requester_days_since_first_post_on_raop_at_request',\n",
    "       'requester_number_of_comments_at_request',\n",
    "       'requester_number_of_comments_in_raop_at_request',\n",
    "       'requester_number_of_posts_at_request',\n",
    "       'requester_number_of_posts_on_raop_at_request',\n",
    "       'requester_number_of_subreddits_at_request', 'target',\n",
    "       'requester_upvotes_minus_downvotes_at_request',\n",
    "       'requester_upvotes_plus_downvotes_at_request',\n",
    "       'unix_timestamp_of_request', 'unix_timestamp_of_request_utc']\n",
    "\n",
    "# Added Features\n",
    "additional_features = ['upvotes_per_post']\n",
    "new_features = baseline_features + additional_features\n",
    "\n",
    "# Selecting Features from dataframe\n",
    "selected_data = data_nr[new_features]\n",
    "y = selected_data['target']\n",
    "X = selected_data.drop('target', axis=1)\n",
    "\n",
    "#randomforest with cross validation\n",
    "baseline_clf = RandomForestClassifier(max_depth=5, random_state=0)\n",
    "scores = cross_val_score(baseline_clf, X, y, cv=5)\n",
    "\n",
    "print(f'Baseline model accuracy without retrieval fields: {round(np.mean(scores), 5) * 100}%')"
   ]
  },
  {
   "cell_type": "markdown",
   "metadata": {},
   "source": [
    "#### Using Naive Bayes Probabilities as Features"
   ]
  },
  {
   "cell_type": "code",
   "execution_count": 443,
   "metadata": {},
   "outputs": [
    {
     "name": "stderr",
     "output_type": "stream",
     "text": [
      "C:\\Users\\petem\\Anaconda3\\lib\\site-packages\\sklearn\\utils\\deprecation.py:101: FutureWarning: Attribute coef_ was deprecated in version 0.24 and will be removed in 1.1 (renaming of 0.26).\n",
      "  warnings.warn(msg, category=FutureWarning)\n"
     ]
    },
    {
     "name": "stdout",
     "output_type": "stream",
     "text": [
      "Baseline + NB weight for request_text, Accuracy = 76.23762%\n"
     ]
    },
    {
     "name": "stderr",
     "output_type": "stream",
     "text": [
      "C:\\Users\\petem\\Anaconda3\\lib\\site-packages\\sklearn\\utils\\deprecation.py:101: FutureWarning: Attribute coef_ was deprecated in version 0.24 and will be removed in 1.1 (renaming of 0.26).\n",
      "  warnings.warn(msg, category=FutureWarning)\n"
     ]
    },
    {
     "name": "stdout",
     "output_type": "stream",
     "text": [
      "Baseline + NB weight for request_text_edit_aware, Accuracy = 76.21287%\n"
     ]
    },
    {
     "name": "stderr",
     "output_type": "stream",
     "text": [
      "C:\\Users\\petem\\Anaconda3\\lib\\site-packages\\sklearn\\utils\\deprecation.py:101: FutureWarning: Attribute coef_ was deprecated in version 0.24 and will be removed in 1.1 (renaming of 0.26).\n",
      "  warnings.warn(msg, category=FutureWarning)\n"
     ]
    },
    {
     "name": "stdout",
     "output_type": "stream",
     "text": [
      "Baseline + NB weight for request_title, Accuracy = 76.11386%\n"
     ]
    }
   ],
   "source": [
    "# Column labels that have text fields\n",
    "text_columns = ['request_text', 'request_text_edit_aware', 'request_title']\n",
    "\n",
    "# Looping thru each text field\n",
    "for field in text_columns:\n",
    "    # Getting corpus for current field\n",
    "    corpus = data_nr[field]\n",
    "    \n",
    "    # Defining vectorizer and getting \n",
    "    vec = CountVectorizer()\n",
    "    matrix = vec.fit_transform(corpus).toarray()\n",
    "    \n",
    "    # Naive bayes classifier fitted\n",
    "    clf = MultinomialNB()\n",
    "    clf.fit(matrix, y)\n",
    "    \n",
    "    # Getting coefficients for each word in corpus\n",
    "    coefs = clf.coef_\n",
    "    \n",
    "    # Initializing list for new feature\n",
    "    text_weights = []\n",
    "    \n",
    "    # Looping thru each text, multiply coefficient weights by frequencies, add to new feature vector\n",
    "    for row in matrix:\n",
    "        weight = (coefs * row).sum()\n",
    "        text_weights.append(weight)\n",
    "    \n",
    "    # Making copy of X data and adding our new feature\n",
    "    X_test = X.copy()\n",
    "    X_test[field] = text_weights\n",
    "    \n",
    "    # Testing and printing score\n",
    "    scores = cross_val_score(baseline_clf, X_test, y, cv=5)\n",
    "    print('Baseline + NB weight for ' + field + ', Accuracy = ' + str(round(np.mean(scores) * 100, 5)) + '%')"
   ]
  },
  {
   "cell_type": "markdown",
   "metadata": {},
   "source": [
    " # Exploratory Analysis of New Features"
   ]
  },
  {
   "cell_type": "markdown",
   "metadata": {},
   "source": [
    "#### Months Bar Chart"
   ]
  },
  {
   "cell_type": "code",
   "execution_count": 462,
   "metadata": {},
   "outputs": [
    {
     "data": {
      "image/png": "[encoded data removed]",
      "text/plain": [
       "<Figure size 432x288 with 1 Axes>"
      ]
     },
     "metadata": {
      "needs_background": "light"
     },
     "output_type": "display_data"
    }
   ],
   "source": [
    "# Plotting Months Where there are most requests on RAOP\n",
    "plot = data['month'].value_counts().sort_index().plot.bar()\n",
    "plt.xlabel(\"Month\")\n",
    "plt.ylabel(\"Number of Pizza Requests\")\n",
    "plt.title(\"Pizza Requests By Month\")\n",
    "\n",
    "months = ['January', 'February', 'March', 'April', 'May', 'June', \n",
    "          'July', 'August', 'September', 'October', 'November', 'December']\n",
    "\n",
    "plt.xticks([0, 1, 2, 3, 4, 5, 6, 7, 8, 9, 10, 11], months, rotation=30)\n",
    "\n",
    "\n",
    "plt.show()"
   ]
  },
  {
   "cell_type": "markdown",
   "metadata": {},
   "source": [
    "#### Bar Chart of Pizza Requests By Hour"
   ]
  },
  {
   "cell_type": "code",
   "execution_count": 457,
   "metadata": {},
   "outputs": [
    {
     "data": {
      "image/png": "[encoded data removed]",
      "text/plain": [
       "<Figure size 432x288 with 1 Axes>"
      ]
     },
     "metadata": {
      "needs_background": "light"
     },
     "output_type": "display_data"
    }
   ],
   "source": [
    "# Plotting Months Where there are most requests on RAOP\n",
    "plot = data['hour'].value_counts().sort_index().plot.bar()\n",
    "plt.xlabel(\"Hour\")\n",
    "plt.ylabel(\"Number of Pizza Requests\")\n",
    "plt.title(\"Pizza Requests By Hour\")\n",
    "\n",
    "plt.show()"
   ]
  },
  {
   "cell_type": "code",
   "execution_count": null,
   "metadata": {},
   "outputs": [],
   "source": []
  }
 ],
 "metadata": {
  "kernelspec": {
   "display_name": "Python 3 (ipykernel)",
   "language": "python",
   "name": "python3"
  },
  "language_info": {
   "codemirror_mode": {
    "name": "ipython",
    "version": 3
   },
   "file_extension": ".py",
   "mimetype": "text/x-python",
   "name": "python",
   "nbconvert_exporter": "python",
   "pygments_lexer": "ipython3",
   "version": "3.9.7"
  }
 },
 "nbformat": 4,
 "nbformat_minor": 4
}
