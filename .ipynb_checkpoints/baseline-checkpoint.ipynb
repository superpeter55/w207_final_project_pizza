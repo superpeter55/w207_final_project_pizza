{
 "cells": [
  {
   "cell_type": "code",
   "execution_count": 213,
   "metadata": {},
   "outputs": [
    {
     "name": "stderr",
     "output_type": "stream",
     "text": [
      "[nltk_data] Downloading package wordnet to\n",
      "[nltk_data]     C:\\Users\\conner.brew\\AppData\\Roaming\\nltk_data...\n",
      "[nltk_data]   Package wordnet is already up-to-date!\n",
      "[nltk_data] Downloading package vader_lexicon to\n",
      "[nltk_data]     C:\\Users\\conner.brew\\AppData\\Roaming\\nltk_data...\n",
      "[nltk_data]   Package vader_lexicon is already up-to-date!\n",
      "[nltk_data] Downloading package punkt to\n",
      "[nltk_data]     C:\\Users\\conner.brew\\AppData\\Roaming\\nltk_data...\n",
      "[nltk_data]   Package punkt is already up-to-date!\n"
     ]
    },
    {
     "data": {
      "text/plain": [
       "True"
      ]
     },
     "execution_count": 213,
     "metadata": {},
     "output_type": "execute_result"
    }
   ],
   "source": [
    "import os \n",
    "import pandas as pd\n",
    "import numpy as np\n",
    "import nltk\n",
    "from sklearn.model_selection import cross_val_score\n",
    "from sklearn.ensemble import RandomForestClassifier\n",
    "import matplotlib.pyplot as plt\n",
    "from sklearn import preprocessing\n",
    "from sklearn.model_selection import train_test_split\n",
    "from nltk.sentiment.vader import SentimentIntensityAnalyzer\n",
    "import regex as re\n",
    "from nltk.stem import WordNetLemmatizer\n",
    "from nltk.corpus import stopwords\n",
    "from sklearn.feature_extraction.text import CountVectorizer\n",
    "from sklearn.feature_extraction.text import TfidfTransformer\n",
    "from sklearn import metrics\n",
    "import os \n",
    "import pandas as pd\n",
    "import numpy as np\n",
    "import matplotlib.pyplot as plt\n",
    "from sklearn.model_selection import cross_val_score\n",
    "from sklearn.ensemble import RandomForestClassifier\n",
    "from sklearn.linear_model import LogisticRegression\n",
    "from sklearn.naive_bayes import MultinomialNB\n",
    "from sklearn.feature_extraction.text import CountVectorizer\n",
    "from datetime import datetime\n",
    "from sklearn.svm import SVC\n",
    "from random import sample\n",
    "\n",
    "nltk.download('wordnet')\n",
    "nltk.download('vader_lexicon')\n",
    "nltk.download('punkt')"
   ]
  },
  {
   "cell_type": "code",
   "execution_count": 214,
   "metadata": {},
   "outputs": [
    {
     "name": "stdout",
     "output_type": "stream",
     "text": [
      "Roughly 25% of requests receive pizza.\n"
     ]
    }
   ],
   "source": [
    "#load in training data. We will use this as both train and test, and save 'test.json' for validation\n",
    "data = pd.read_json('data/train/train.json').rename(columns = {'requester_received_pizza': 'target'})\n",
    "drop_cols = [col for col in data.columns if 'retrieval' in col]\n",
    "data = data.drop(columns=drop_cols)\n",
    "drop_cols = ['giver_username_if_known', 'request_id', 'requester_username', 'post_was_edited']\n",
    "data = data.drop(columns=drop_cols)\n",
    "                 \n",
    "#Change the boolean target variable to an int\n",
    "data['target'] = data['target'].astype(int)\n",
    "                 \n",
    "y = data['target']\n",
    "X = data.drop(columns=['target'])\n",
    "\n",
    "#Get a rough idea of target baseline\n",
    "baseline = round(sum(data['target']) / len(data['target']), 2)\n",
    "print(f'Roughly {int(baseline * 100)}% of requests receive pizza.')\n",
    "\n"
   ]
  },
  {
   "cell_type": "code",
   "execution_count": 215,
   "metadata": {},
   "outputs": [],
   "source": [
    "def balance_sample(X, y):\n",
    "    X_pos = [i for i in range(len(X)) if y[i] == 1]\n",
    "    X_neg = sample([i for i in range(len(X)) if y[i] != 1], 994)\n",
    "\n",
    "    y_pos = [i for i in range(len(y)) if y[i] == 1]\n",
    "    y_neg = sample([i for i in range(len(y)) if y[i] != 1], 994)\n",
    "\n",
    "    y = pd.concat([y.iloc[y_pos], y.iloc[y_neg]])\n",
    "    X = pd.concat([X.iloc[X_pos], X.iloc[X_neg]])\n",
    "    \n",
    "    return X, y\n",
    "\n",
    "def eval_model(X, clf, plot_importance = False):\n",
    "    X = X.select_dtypes(np.number)\n",
    "    \n",
    "    X_train, X_test, y_train, y_test = train_test_split(X, y, test_size=0.33, random_state=123, stratify=y)\n",
    "    \n",
    "    scores = cross_val_score(clf, X_train, y_train, cv=5)\n",
    "    print(f'CV Model Accuracy: {round(np.mean(scores), 4) * 100}%')\n",
    "    clf.fit(X_train, y_train)\n",
    "    yhat = clf.predict(X_test)\n",
    "    \n",
    "    print('Out of Sample Performance:')\n",
    "    print(metrics.confusion_matrix(yhat, y_test))\n",
    "    print(metrics.classification_report(yhat, y_test))\n",
    "\n",
    "    if plot_importance == True:\n",
    "        importances = clf.feature_importances_\n",
    "        std = np.std([tree.feature_importances_ for tree in clf.estimators_], axis=0)\n",
    "        feature_names = list(X.columns)\n",
    "        forest_importances = pd.Series(importances, index=feature_names)\n",
    "\n",
    "        fig, ax = plt.subplots(figsize=(10,10))\n",
    "        forest_importances.plot.barh(yerr=std, ax=ax)\n",
    "        ax.set_title(\"Feature importances using MDI\")\n",
    "        ax.set_ylabel(\"Mean decrease in impurity\")\n",
    "        fig.tight_layout()\n",
    "\n",
    "    \n",
    "def test_transformation(X, transformer):\n",
    "    X = X.select_dtypes(np.number)\n",
    "    X_train, X_test, y_train, y_test = train_test_split(X, y, test_size=0.33, random_state=42, stratify=y)\n",
    "    X_train = transformer.fit_transform(X_train)\n",
    "\n",
    "    #Default randomforest with cross validation\n",
    "    clf = RandomForestClassifier(bootstrap=True, max_depth=80,max_features=3,min_samples_leaf=3,min_samples_split=8,n_estimators=200)\n",
    "    scores = cross_val_score(clf, X_train, y_train, cv=5)\n",
    "    print(f'Model accuracy w {str(transformer)}: {round(np.mean(scores), 4) * 100}%')\n",
    "    clf.fit(X_train, y_train)\n",
    "    yhat = clf.predict(X_test)\n",
    "    print('Out of Sample Performance:')\n",
    "    print(metrics.classification_report(yhat, y_test))\n",
    "    print('-------------------------\\n')"
   ]
  },
  {
   "cell_type": "code",
   "execution_count": 216,
   "metadata": {},
   "outputs": [],
   "source": [
    "#X, y = balance_sample(X, y)"
   ]
  },
  {
   "cell_type": "code",
   "execution_count": 217,
   "metadata": {},
   "outputs": [
    {
     "name": "stdout",
     "output_type": "stream",
     "text": [
      "CV Model Accuracy: 73.87%\n",
      "Out of Sample Performance:\n",
      "[[919 276]\n",
      " [ 87  52]]\n",
      "              precision    recall  f1-score   support\n",
      "\n",
      "           0       0.91      0.77      0.84      1195\n",
      "           1       0.16      0.37      0.22       139\n",
      "\n",
      "    accuracy                           0.73      1334\n",
      "   macro avg       0.54      0.57      0.53      1334\n",
      "weighted avg       0.83      0.73      0.77      1334\n",
      "\n"
     ]
    },
    {
     "data": {
      "image/png": "[encoded data removed]",
      "text/plain": [
       "<Figure size 720x720 with 1 Axes>"
      ]
     },
     "metadata": {
      "needs_background": "light"
     },
     "output_type": "display_data"
    }
   ],
   "source": [
    "rf = RandomForestClassifier()\n",
    "eval_model(X.copy(), rf, plot_importance = True)"
   ]
  },
  {
   "cell_type": "code",
   "execution_count": 218,
   "metadata": {},
   "outputs": [
    {
     "name": "stdout",
     "output_type": "stream",
     "text": [
      "Model accuracy w StandardScaler(): 75.02%\n",
      "Out of Sample Performance:\n",
      "              precision    recall  f1-score   support\n",
      "\n",
      "           0       0.95      0.76      0.85      1257\n",
      "           1       0.09      0.38      0.14        77\n",
      "\n",
      "    accuracy                           0.74      1334\n",
      "   macro avg       0.52      0.57      0.49      1334\n",
      "weighted avg       0.90      0.74      0.81      1334\n",
      "\n",
      "-------------------------\n",
      "\n",
      "Model accuracy w Normalizer(): 75.31%\n",
      "Out of Sample Performance:\n",
      "              precision    recall  f1-score   support\n",
      "\n",
      "           0       1.00      0.75      0.86      1334\n",
      "           1       0.00      0.00      0.00         0\n",
      "\n",
      "    accuracy                           0.75      1334\n",
      "   macro avg       0.50      0.38      0.43      1334\n",
      "weighted avg       1.00      0.75      0.86      1334\n",
      "\n",
      "-------------------------\n",
      "\n"
     ]
    },
    {
     "name": "stderr",
     "output_type": "stream",
     "text": [
      "C:\\Users\\conner.brew\\Anaconda3\\lib\\site-packages\\sklearn\\metrics\\_classification.py:1221: UndefinedMetricWarning: Recall and F-score are ill-defined and being set to 0.0 in labels with no true samples. Use `zero_division` parameter to control this behavior.\n",
      "  _warn_prf(average, modifier, msg_start, len(result))\n"
     ]
    },
    {
     "name": "stdout",
     "output_type": "stream",
     "text": [
      "Model accuracy w MinMaxScaler(): 74.8%\n",
      "Out of Sample Performance:\n",
      "              precision    recall  f1-score   support\n",
      "\n",
      "           0       0.87      0.77      0.81      1139\n",
      "           1       0.19      0.32      0.24       195\n",
      "\n",
      "    accuracy                           0.70      1334\n",
      "   macro avg       0.53      0.54      0.53      1334\n",
      "weighted avg       0.77      0.70      0.73      1334\n",
      "\n",
      "-------------------------\n",
      "\n",
      "Model accuracy w MaxAbsScaler(): 74.83%\n",
      "Out of Sample Performance:\n",
      "              precision    recall  f1-score   support\n",
      "\n",
      "           0       0.86      0.77      0.81      1135\n",
      "           1       0.19      0.32      0.24       199\n",
      "\n",
      "    accuracy                           0.70      1334\n",
      "   macro avg       0.53      0.54      0.53      1334\n",
      "weighted avg       0.76      0.70      0.73      1334\n",
      "\n",
      "-------------------------\n",
      "\n"
     ]
    },
    {
     "name": "stderr",
     "output_type": "stream",
     "text": [
      "C:\\Users\\conner.brew\\Anaconda3\\lib\\site-packages\\sklearn\\preprocessing\\_data.py:2995: RuntimeWarning: divide by zero encountered in log\n",
      "  loglike = -n_samples / 2 * np.log(x_trans.var())\n"
     ]
    },
    {
     "name": "stdout",
     "output_type": "stream",
     "text": [
      "Model accuracy w PowerTransformer(): 75.5%\n",
      "Out of Sample Performance:\n",
      "              precision    recall  f1-score   support\n",
      "\n",
      "           0       0.96      0.76      0.85      1266\n",
      "           1       0.08      0.37      0.13        68\n",
      "\n",
      "    accuracy                           0.74      1334\n",
      "   macro avg       0.52      0.56      0.49      1334\n",
      "weighted avg       0.91      0.74      0.81      1334\n",
      "\n",
      "-------------------------\n",
      "\n"
     ]
    }
   ],
   "source": [
    "transformers = [\n",
    "    preprocessing.StandardScaler(),\n",
    "    preprocessing.Normalizer(),\n",
    "    preprocessing.MinMaxScaler(),\n",
    "    preprocessing.MaxAbsScaler(),\n",
    "    preprocessing.PowerTransformer(method = 'yeo-johnson')\n",
    "]\n",
    "\n",
    "for transformer in transformers:\n",
    "    test_transformation(X.copy(), transformer)"
   ]
  },
  {
   "cell_type": "code",
   "execution_count": 219,
   "metadata": {},
   "outputs": [
    {
     "name": "stdout",
     "output_type": "stream",
     "text": [
      "CV Model Accuracy: 75.28%\n",
      "Out of Sample Performance:\n",
      "[[960 278]\n",
      " [ 46  50]]\n",
      "              precision    recall  f1-score   support\n",
      "\n",
      "           0       0.95      0.78      0.86      1238\n",
      "           1       0.15      0.52      0.24        96\n",
      "\n",
      "    accuracy                           0.76      1334\n",
      "   macro avg       0.55      0.65      0.55      1334\n",
      "weighted avg       0.90      0.76      0.81      1334\n",
      "\n"
     ]
    },
    {
     "data": {
      "image/png": "[encoded data removed]",
      "text/plain": [
       "<Figure size 720x720 with 1 Axes>"
      ]
     },
     "metadata": {
      "needs_background": "light"
     },
     "output_type": "display_data"
    }
   ],
   "source": [
    " def sentiment_analyze(X):\n",
    "    sid = SentimentIntensityAnalyzer()\n",
    "    sid_data = X.copy()\n",
    "    \n",
    "    #use inbuilt sid.polarity_scores to extract scores. Read on for the results\n",
    "    text_analyzed = X['request_text_edit_aware'].apply(lambda request_text: sid.polarity_scores(request_text))\n",
    "\n",
    "    #We break the dict generated above and pull only column 'compound'\n",
    "    sid_data['text_sentiment']  = text_analyzed.apply(lambda s : s['compound'])\n",
    "\n",
    "    #use inbuilt sid.polarity_scores to extract scores. Read on for the results\n",
    "    title_analyzed = X['request_title'].apply(lambda request_title: sid.polarity_scores(request_title))\n",
    "\n",
    "    #We break the dict generated above and pull only column 'compound'\n",
    "    sid_data['title_sentiment']  = title_analyzed.apply(lambda s : s['compound'])\n",
    "\n",
    "    sid_data['text_length']=data['request_text_edit_aware'].apply(lambda s: len(nltk.word_tokenize(s)))\n",
    "    sid_data['title_length']=data['request_title'].apply(lambda s: len(nltk.word_tokenize(s)))\n",
    "    \n",
    "    return sid_data\n",
    "\n",
    "eval_model(sentiment_analyze(X.copy()), rf, plot_importance=True)"
   ]
  },
  {
   "cell_type": "code",
   "execution_count": 220,
   "metadata": {},
   "outputs": [],
   "source": [
    "def vectorize_text(X):\n",
    "    documents = []\n",
    "\n",
    "    stop_words = set(stopwords.words('english'))\n",
    "    stemmer = WordNetLemmatizer()\n",
    "\n",
    "    for doc in X['request_text_edit_aware']:\n",
    "        # Remove all the special characters\n",
    "        document = re.sub(r'\\W', ' ', str(doc))    \n",
    "        # remove all single characters\n",
    "        document = re.sub(r'\\s+[a-zA-Z]\\s+', ' ', document)    \n",
    "        # Remove single characters from the start\n",
    "        document = re.sub(r'\\^[a-zA-Z]\\s+', ' ', document)     \n",
    "        # Substituting multiple spaces with single space\n",
    "        document = re.sub(r'\\s+', ' ', document, flags=re.I)    \n",
    "        # Removing prefixed 'b'\n",
    "        document = re.sub(r'^b\\s+', '', document) \n",
    "        # Converting to Lowercase\n",
    "        document = document.lower()    \n",
    "        #drop stops\n",
    "        document = document.split()\n",
    "        document = [word for word in document if word not in stop_words]    \n",
    "        #lemmatize\n",
    "        document = [stemmer.lemmatize(word) for word in document]\n",
    "        document = ' '.join(document)\n",
    "        documents.append(document)\n",
    "        \n",
    "    vectorizer = CountVectorizer(max_features=100, min_df=10, max_df=0.7, stop_words=stopwords.words('english'))\n",
    "    vec = vectorizer.fit_transform(documents).toarray()\n",
    "    \n",
    "    return vec"
   ]
  },
  {
   "cell_type": "code",
   "execution_count": 221,
   "metadata": {},
   "outputs": [
    {
     "name": "stdout",
     "output_type": "stream",
     "text": [
      "CV Model Accuracy: 75.79%\n",
      "Out of Sample Performance:\n",
      "[[978 290]\n",
      " [ 28  38]]\n",
      "              precision    recall  f1-score   support\n",
      "\n",
      "           0       0.97      0.77      0.86      1268\n",
      "           1       0.12      0.58      0.19        66\n",
      "\n",
      "    accuracy                           0.76      1334\n",
      "   macro avg       0.54      0.67      0.53      1334\n",
      "weighted avg       0.93      0.76      0.83      1334\n",
      "\n"
     ]
    }
   ],
   "source": [
    "def count_vectorize(X):\n",
    "    vec_data = pd.merge(X, pd.DataFrame(vectorize_text(X.copy())), left_index=True, right_index=True)\n",
    "    return vec_data\n",
    "\n",
    "eval_model(count_vectorize(X.copy()), rf)"
   ]
  },
  {
   "cell_type": "code",
   "execution_count": 222,
   "metadata": {},
   "outputs": [
    {
     "name": "stdout",
     "output_type": "stream",
     "text": [
      "CV Model Accuracy: 75.46000000000001%\n",
      "Out of Sample Performance:\n",
      "[[990 307]\n",
      " [ 16  21]]\n",
      "              precision    recall  f1-score   support\n",
      "\n",
      "           0       0.98      0.76      0.86      1297\n",
      "           1       0.06      0.57      0.12        37\n",
      "\n",
      "    accuracy                           0.76      1334\n",
      "   macro avg       0.52      0.67      0.49      1334\n",
      "weighted avg       0.96      0.76      0.84      1334\n",
      "\n"
     ]
    }
   ],
   "source": [
    "def tfidf_vec(X):\n",
    "\n",
    "    tfidfconverter = TfidfTransformer()\n",
    "    tfidf_request = tfidfconverter.fit_transform(vectorize_text(X.copy())).toarray()\n",
    "\n",
    "    tfidf_data = pd.merge(X, pd.DataFrame(tfidf_request), left_index=True, right_index=True)\n",
    "    \n",
    "    return tfidf_data\n",
    "    \n",
    "eval_model(tfidf_vec(X.copy()), rf)\n"
   ]
  },
  {
   "cell_type": "code",
   "execution_count": 223,
   "metadata": {},
   "outputs": [],
   "source": [
    "# Column labels that have text fields\n",
    "def nb_features(X):\n",
    "    text_columns = ['request_text', 'request_text_edit_aware', 'request_title']\n",
    "    \n",
    "    nb_data = X.copy()\n",
    "    new_features = []\n",
    "    # Looping thru each text field\n",
    "    for field in text_columns:\n",
    "        # Getting corpus for current field\n",
    "        corpus = X[field]\n",
    "\n",
    "        # Defining vectorizer and getting \n",
    "        vec = CountVectorizer()\n",
    "        matrix = vec.fit_transform(corpus).toarray()\n",
    "\n",
    "        # Naive bayes classifier fitted\n",
    "        clf = MultinomialNB()\n",
    "        clf.fit(matrix, y)\n",
    "\n",
    "        # Getting coefficients for each word in corpus\n",
    "        coefs = clf.coef_\n",
    "\n",
    "        # Initializing list for new feature\n",
    "        text_weights = []\n",
    "\n",
    "        # Looping thru each text, multiply coefficient weights by frequencies, add to new feature vector\n",
    "        for row in matrix:\n",
    "            weight = (coefs * row).sum()\n",
    "            text_weights.append(weight)\n",
    "\n",
    "        # Making copy of X data and adding our new feature\n",
    "        nb_data[field] = text_weights\n",
    "\n",
    "    return nb_data, clf\n",
    "\n",
    "#nb_data, nb_clf = nb_features(X.copy())\n",
    "#eval_model(nb_data, plot_importance=True)\n"
   ]
  },
  {
   "cell_type": "code",
   "execution_count": 224,
   "metadata": {},
   "outputs": [
    {
     "name": "stdout",
     "output_type": "stream",
     "text": [
      "CV Model Accuracy: 74.28%\n",
      "Out of Sample Performance:\n",
      "[[946 280]\n",
      " [ 60  48]]\n",
      "              precision    recall  f1-score   support\n",
      "\n",
      "           0       0.94      0.77      0.85      1226\n",
      "           1       0.15      0.44      0.22       108\n",
      "\n",
      "    accuracy                           0.75      1334\n",
      "   macro avg       0.54      0.61      0.53      1334\n",
      "weighted avg       0.88      0.75      0.80      1334\n",
      "\n"
     ]
    },
    {
     "data": {
      "image/png": "[encoded data removed]",
      "text/plain": [
       "<Figure size 720x720 with 1 Axes>"
      ]
     },
     "metadata": {
      "needs_background": "light"
     },
     "output_type": "display_data"
    }
   ],
   "source": [
    "# Adding timestamp column to dataframe\n",
    "def determine_season(row):\n",
    "    month = row.month\n",
    "    if month < 4:\n",
    "        return 0\n",
    "    if month < 7:\n",
    "        return 1\n",
    "    if month < 10:\n",
    "        return 2\n",
    "    return 3\n",
    "\n",
    "def apply_time(X):\n",
    "    X['date_hour'] = X.apply(lambda row: datetime.fromtimestamp(row.unix_timestamp_of_request).strftime('%Y-%m-%d-%H'), \n",
    "                                   axis = 1)\n",
    "\n",
    "    # Function to determine season\n",
    "\n",
    "\n",
    "    # Creating Adding New columns for year, month, day_number, hour, and season\n",
    "    X['year'] = pd.DataFrame(X.apply(lambda row: int(row.date_hour.split('-')[0]), axis = 1))\n",
    "    X['month'] = pd.DataFrame(X.apply(lambda row: int(row.date_hour.split('-')[1]), axis = 1))\n",
    "    X['day_number'] = pd.DataFrame(X.apply(lambda row: int(row.date_hour.split('-')[2]), axis = 1))\n",
    "    X['hour'] =  pd.DataFrame(X.apply(lambda row: int(row.date_hour.split('-')[3]), axis = 1))\n",
    "    X['season'] = pd.DataFrame(X.apply(lambda row: determine_season(row), axis = 1))\n",
    "    \n",
    "    return X\n",
    "\n",
    "eval_model(apply_time(X.copy()), rf, plot_importance=True)"
   ]
  },
  {
   "cell_type": "markdown",
   "metadata": {},
   "source": [
    "## Final Data Engineering"
   ]
  },
  {
   "cell_type": "code",
   "execution_count": 226,
   "metadata": {},
   "outputs": [
    {
     "name": "stdout",
     "output_type": "stream",
     "text": [
      "CV Model Accuracy: 76.35%\n",
      "Out of Sample Performance:\n",
      "[[985 298]\n",
      " [ 21  30]]\n",
      "              precision    recall  f1-score   support\n",
      "\n",
      "           0       0.98      0.77      0.86      1283\n",
      "           1       0.09      0.59      0.16        51\n",
      "\n",
      "    accuracy                           0.76      1334\n",
      "   macro avg       0.54      0.68      0.51      1334\n",
      "weighted avg       0.95      0.76      0.83      1334\n",
      "\n"
     ]
    }
   ],
   "source": [
    "model_data = apply_time(X)\n",
    "model_data = sentiment_analyze(model_data)\n",
    "model_data = count_vectorize(model_data)\n",
    "\n",
    "eval_model(model_data, rf)"
   ]
  },
  {
   "cell_type": "code",
   "execution_count": 227,
   "metadata": {},
   "outputs": [
    {
     "name": "stdout",
     "output_type": "stream",
     "text": [
      "RandomForestClassifier()\n",
      "CV Model Accuracy: 76.2%\n",
      "Out of Sample Performance:\n",
      "[[996 301]\n",
      " [ 10  27]]\n",
      "              precision    recall  f1-score   support\n",
      "\n",
      "           0       0.99      0.77      0.86      1297\n",
      "           1       0.08      0.73      0.15        37\n",
      "\n",
      "    accuracy                           0.77      1334\n",
      "   macro avg       0.54      0.75      0.51      1334\n",
      "weighted avg       0.96      0.77      0.85      1334\n",
      "\n",
      "LogisticRegression()\n",
      "CV Model Accuracy: 75.39%\n",
      "Out of Sample Performance:\n",
      "[[1006  328]\n",
      " [   0    0]]\n",
      "              precision    recall  f1-score   support\n",
      "\n",
      "           0       1.00      0.75      0.86      1334\n",
      "           1       0.00      0.00      0.00         0\n",
      "\n",
      "    accuracy                           0.75      1334\n",
      "   macro avg       0.50      0.38      0.43      1334\n",
      "weighted avg       1.00      0.75      0.86      1334\n",
      "\n",
      "SVC()\n"
     ]
    },
    {
     "name": "stderr",
     "output_type": "stream",
     "text": [
      "C:\\Users\\conner.brew\\Anaconda3\\lib\\site-packages\\sklearn\\metrics\\_classification.py:1221: UndefinedMetricWarning: Recall and F-score are ill-defined and being set to 0.0 in labels with no true samples. Use `zero_division` parameter to control this behavior.\n",
      "  _warn_prf(average, modifier, msg_start, len(result))\n"
     ]
    },
    {
     "name": "stdout",
     "output_type": "stream",
     "text": [
      "CV Model Accuracy: 75.39%\n",
      "Out of Sample Performance:\n",
      "[[1006  328]\n",
      " [   0    0]]\n",
      "              precision    recall  f1-score   support\n",
      "\n",
      "           0       1.00      0.75      0.86      1334\n",
      "           1       0.00      0.00      0.00         0\n",
      "\n",
      "    accuracy                           0.75      1334\n",
      "   macro avg       0.50      0.38      0.43      1334\n",
      "weighted avg       1.00      0.75      0.86      1334\n",
      "\n"
     ]
    },
    {
     "name": "stderr",
     "output_type": "stream",
     "text": [
      "C:\\Users\\conner.brew\\Anaconda3\\lib\\site-packages\\sklearn\\metrics\\_classification.py:1221: UndefinedMetricWarning: Recall and F-score are ill-defined and being set to 0.0 in labels with no true samples. Use `zero_division` parameter to control this behavior.\n",
      "  _warn_prf(average, modifier, msg_start, len(result))\n"
     ]
    }
   ],
   "source": [
    "models = [RandomForestClassifier(), LogisticRegression(), SVC()]\n",
    "for model in models:\n",
    "    print(model)\n",
    "    eval_model(model_data, model)"
   ]
  },
  {
   "cell_type": "code",
   "execution_count": 228,
   "metadata": {},
   "outputs": [
    {
     "name": "stdout",
     "output_type": "stream",
     "text": [
      "Fitting 3 folds for each of 10 candidates, totalling 30 fits\n"
     ]
    },
    {
     "name": "stderr",
     "output_type": "stream",
     "text": [
      "[Parallel(n_jobs=-1)]: Using backend LokyBackend with 8 concurrent workers.\n",
      "[Parallel(n_jobs=-1)]: Done  30 out of  30 | elapsed:   40.6s finished\n"
     ]
    },
    {
     "name": "stdout",
     "output_type": "stream",
     "text": [
      "{'n_estimators': 1600, 'min_samples_split': 10, 'min_samples_leaf': 4, 'max_features': 'auto', 'max_depth': 100, 'bootstrap': False}\n"
     ]
    }
   ],
   "source": [
    "model_data = model_data.select_dtypes(np.number)\n",
    "X_train, X_test, y_train, y_test = train_test_split(model_data, y, test_size=0.33, random_state=42, stratify=y)\n",
    "\n",
    "from sklearn.model_selection import RandomizedSearchCV\n",
    "\n",
    "n_estimators = [int(x) for x in np.linspace(start = 200, stop = 2000, num = 10)]\n",
    "max_features = ['auto', 'sqrt']\n",
    "max_depth = [int(x) for x in np.linspace(10, 110, num = 11)]\n",
    "max_depth.append(None)\n",
    "min_samples_split = [2, 5, 10]\n",
    "min_samples_leaf = [1, 2, 4]\n",
    "bootstrap = [True, False]\n",
    "\n",
    "# Create the random grid\n",
    "param_grid = {'n_estimators': n_estimators,\n",
    "               'max_features': max_features,\n",
    "               'max_depth': max_depth,\n",
    "               'min_samples_split': min_samples_split,\n",
    "               'min_samples_leaf': min_samples_leaf,\n",
    "               'bootstrap': bootstrap}\n",
    "\n",
    "rf = RandomForestClassifier()\n",
    "grid_search = RandomizedSearchCV(estimator = rf, param_distributions = param_grid, cv = 3, n_jobs = -1, verbose = 2)\n",
    "grid_search.fit(X_train, y_train)\n",
    "\n",
    "print(grid_search.best_params_)"
   ]
  },
  {
   "cell_type": "code",
   "execution_count": 229,
   "metadata": {},
   "outputs": [
    {
     "name": "stdout",
     "output_type": "stream",
     "text": [
      "CV Model Accuracy: 76.02%\n",
      "Out of Sample Performance:\n",
      "[[1000  303]\n",
      " [   6   25]]\n",
      "              precision    recall  f1-score   support\n",
      "\n",
      "           0       0.99      0.77      0.87      1303\n",
      "           1       0.08      0.81      0.14        31\n",
      "\n",
      "    accuracy                           0.77      1334\n",
      "   macro avg       0.54      0.79      0.50      1334\n",
      "weighted avg       0.97      0.77      0.85      1334\n",
      "\n"
     ]
    }
   ],
   "source": [
    "best_params = grid_search.best_params_\n",
    "\n",
    "optimized_rf = RandomForestClassifier(\n",
    "    n_estimators=best_params['n_estimators'],\n",
    "    min_samples_split=best_params['min_samples_split'],\n",
    "    min_samples_leaf=best_params['min_samples_leaf'],\n",
    "    max_features=best_params['max_features'],\n",
    "    max_depth=best_params['max_depth'],\n",
    "    bootstrap=best_params['n_estimators']\n",
    ")\n",
    "\n",
    "eval_model(model_data, optimized_rf)"
   ]
  },
  {
   "cell_type": "code",
   "execution_count": 231,
   "metadata": {},
   "outputs": [],
   "source": [
    "final_rf = RandomForestClassifier(\n",
    "    n_estimators=best_params['n_estimators'],\n",
    "    min_samples_split=best_params['min_samples_split'],\n",
    "    min_samples_leaf=best_params['min_samples_leaf'],\n",
    "    max_features=best_params['max_features'],\n",
    "    max_depth=best_params['max_depth'],\n",
    "    bootstrap=best_params['n_estimators']\n",
    ")\n",
    "\n",
    "final_rf.fit(model_data, y)\n",
    "\n",
    "test_data = pd.read_json('data/test/test.json')\n",
    "test_data = apply_time(test_data)\n",
    "test_data = sentiment_analyze(test_data)\n",
    "test_data = count_vectorize(test_data)\n",
    "\n",
    "test_data = test_data.select_dtypes(np.number)"
   ]
  },
  {
   "cell_type": "code",
   "execution_count": 232,
   "metadata": {},
   "outputs": [
    {
     "ename": "ValueError",
     "evalue": "Number of features of the model must match the input. Model n_features is 121 and input n_features is 120 ",
     "output_type": "error",
     "traceback": [
      "\u001b[1;31m---------------------------------------------------------------------------\u001b[0m",
      "\u001b[1;31mValueError\u001b[0m                                Traceback (most recent call last)",
      "\u001b[1;32m<ipython-input-232-d49a37df3836>\u001b[0m in \u001b[0;36m<module>\u001b[1;34m\u001b[0m\n\u001b[1;32m----> 1\u001b[1;33m \u001b[0myhat\u001b[0m \u001b[1;33m=\u001b[0m \u001b[0mfinal_rf\u001b[0m\u001b[1;33m.\u001b[0m\u001b[0mpredict\u001b[0m\u001b[1;33m(\u001b[0m\u001b[0mtest_data\u001b[0m\u001b[1;33m)\u001b[0m\u001b[1;33m\u001b[0m\u001b[1;33m\u001b[0m\u001b[0m\n\u001b[0m",
      "\u001b[1;32m~\\Anaconda3\\lib\\site-packages\\sklearn\\ensemble\\_forest.py\u001b[0m in \u001b[0;36mpredict\u001b[1;34m(self, X)\u001b[0m\n\u001b[0;32m    627\u001b[0m             \u001b[0mThe\u001b[0m \u001b[0mpredicted\u001b[0m \u001b[0mclasses\u001b[0m\u001b[1;33m.\u001b[0m\u001b[1;33m\u001b[0m\u001b[1;33m\u001b[0m\u001b[0m\n\u001b[0;32m    628\u001b[0m         \"\"\"\n\u001b[1;32m--> 629\u001b[1;33m         \u001b[0mproba\u001b[0m \u001b[1;33m=\u001b[0m \u001b[0mself\u001b[0m\u001b[1;33m.\u001b[0m\u001b[0mpredict_proba\u001b[0m\u001b[1;33m(\u001b[0m\u001b[0mX\u001b[0m\u001b[1;33m)\u001b[0m\u001b[1;33m\u001b[0m\u001b[1;33m\u001b[0m\u001b[0m\n\u001b[0m\u001b[0;32m    630\u001b[0m \u001b[1;33m\u001b[0m\u001b[0m\n\u001b[0;32m    631\u001b[0m         \u001b[1;32mif\u001b[0m \u001b[0mself\u001b[0m\u001b[1;33m.\u001b[0m\u001b[0mn_outputs_\u001b[0m \u001b[1;33m==\u001b[0m \u001b[1;36m1\u001b[0m\u001b[1;33m:\u001b[0m\u001b[1;33m\u001b[0m\u001b[1;33m\u001b[0m\u001b[0m\n",
      "\u001b[1;32m~\\Anaconda3\\lib\\site-packages\\sklearn\\ensemble\\_forest.py\u001b[0m in \u001b[0;36mpredict_proba\u001b[1;34m(self, X)\u001b[0m\n\u001b[0;32m    671\u001b[0m         \u001b[0mcheck_is_fitted\u001b[0m\u001b[1;33m(\u001b[0m\u001b[0mself\u001b[0m\u001b[1;33m)\u001b[0m\u001b[1;33m\u001b[0m\u001b[1;33m\u001b[0m\u001b[0m\n\u001b[0;32m    672\u001b[0m         \u001b[1;31m# Check data\u001b[0m\u001b[1;33m\u001b[0m\u001b[1;33m\u001b[0m\u001b[1;33m\u001b[0m\u001b[0m\n\u001b[1;32m--> 673\u001b[1;33m         \u001b[0mX\u001b[0m \u001b[1;33m=\u001b[0m \u001b[0mself\u001b[0m\u001b[1;33m.\u001b[0m\u001b[0m_validate_X_predict\u001b[0m\u001b[1;33m(\u001b[0m\u001b[0mX\u001b[0m\u001b[1;33m)\u001b[0m\u001b[1;33m\u001b[0m\u001b[1;33m\u001b[0m\u001b[0m\n\u001b[0m\u001b[0;32m    674\u001b[0m \u001b[1;33m\u001b[0m\u001b[0m\n\u001b[0;32m    675\u001b[0m         \u001b[1;31m# Assign chunk of trees to jobs\u001b[0m\u001b[1;33m\u001b[0m\u001b[1;33m\u001b[0m\u001b[1;33m\u001b[0m\u001b[0m\n",
      "\u001b[1;32m~\\Anaconda3\\lib\\site-packages\\sklearn\\ensemble\\_forest.py\u001b[0m in \u001b[0;36m_validate_X_predict\u001b[1;34m(self, X)\u001b[0m\n\u001b[0;32m    419\u001b[0m         \u001b[0mcheck_is_fitted\u001b[0m\u001b[1;33m(\u001b[0m\u001b[0mself\u001b[0m\u001b[1;33m)\u001b[0m\u001b[1;33m\u001b[0m\u001b[1;33m\u001b[0m\u001b[0m\n\u001b[0;32m    420\u001b[0m \u001b[1;33m\u001b[0m\u001b[0m\n\u001b[1;32m--> 421\u001b[1;33m         \u001b[1;32mreturn\u001b[0m \u001b[0mself\u001b[0m\u001b[1;33m.\u001b[0m\u001b[0mestimators_\u001b[0m\u001b[1;33m[\u001b[0m\u001b[1;36m0\u001b[0m\u001b[1;33m]\u001b[0m\u001b[1;33m.\u001b[0m\u001b[0m_validate_X_predict\u001b[0m\u001b[1;33m(\u001b[0m\u001b[0mX\u001b[0m\u001b[1;33m,\u001b[0m \u001b[0mcheck_input\u001b[0m\u001b[1;33m=\u001b[0m\u001b[1;32mTrue\u001b[0m\u001b[1;33m)\u001b[0m\u001b[1;33m\u001b[0m\u001b[1;33m\u001b[0m\u001b[0m\n\u001b[0m\u001b[0;32m    422\u001b[0m \u001b[1;33m\u001b[0m\u001b[0m\n\u001b[0;32m    423\u001b[0m     \u001b[1;33m@\u001b[0m\u001b[0mproperty\u001b[0m\u001b[1;33m\u001b[0m\u001b[1;33m\u001b[0m\u001b[0m\n",
      "\u001b[1;32m~\\Anaconda3\\lib\\site-packages\\sklearn\\tree\\_classes.py\u001b[0m in \u001b[0;36m_validate_X_predict\u001b[1;34m(self, X, check_input)\u001b[0m\n\u001b[0;32m    394\u001b[0m         \u001b[0mn_features\u001b[0m \u001b[1;33m=\u001b[0m \u001b[0mX\u001b[0m\u001b[1;33m.\u001b[0m\u001b[0mshape\u001b[0m\u001b[1;33m[\u001b[0m\u001b[1;36m1\u001b[0m\u001b[1;33m]\u001b[0m\u001b[1;33m\u001b[0m\u001b[1;33m\u001b[0m\u001b[0m\n\u001b[0;32m    395\u001b[0m         \u001b[1;32mif\u001b[0m \u001b[0mself\u001b[0m\u001b[1;33m.\u001b[0m\u001b[0mn_features_\u001b[0m \u001b[1;33m!=\u001b[0m \u001b[0mn_features\u001b[0m\u001b[1;33m:\u001b[0m\u001b[1;33m\u001b[0m\u001b[1;33m\u001b[0m\u001b[0m\n\u001b[1;32m--> 396\u001b[1;33m             raise ValueError(\"Number of features of the model must \"\n\u001b[0m\u001b[0;32m    397\u001b[0m                              \u001b[1;34m\"match the input. Model n_features is %s and \"\u001b[0m\u001b[1;33m\u001b[0m\u001b[1;33m\u001b[0m\u001b[0m\n\u001b[0;32m    398\u001b[0m                              \u001b[1;34m\"input n_features is %s \"\u001b[0m\u001b[1;33m\u001b[0m\u001b[1;33m\u001b[0m\u001b[0m\n",
      "\u001b[1;31mValueError\u001b[0m: Number of features of the model must match the input. Model n_features is 121 and input n_features is 120 "
     ]
    }
   ],
   "source": [
    "yhat = final_rf.predict(test_data)"
   ]
  },
  {
   "cell_type": "code",
   "execution_count": 235,
   "metadata": {},
   "outputs": [
    {
     "data": {
      "text/plain": [
       "['post_was_edited']"
      ]
     },
     "execution_count": 235,
     "metadata": {},
     "output_type": "execute_result"
    }
   ],
   "source": [
    "submission = pd.DataFrame(data = {\n",
    "    'request_id': list(pd.read_json('data/test/test.json')['request_id']),\n",
    "    'requester_received_pizza': yhat\n",
    "})\n",
    "\n",
    "submission.to_csv('submission.csv')"
   ]
  },
  {
   "cell_type": "code",
   "execution_count": null,
   "metadata": {},
   "outputs": [],
   "source": []
  }
 ],
 "metadata": {
  "kernelspec": {
   "display_name": "Python 3",
   "language": "python",
   "name": "python3"
  },
  "language_info": {
   "codemirror_mode": {
    "name": "ipython",
    "version": 3
   },
   "file_extension": ".py",
   "mimetype": "text/x-python",
   "name": "python",
   "nbconvert_exporter": "python",
   "pygments_lexer": "ipython3",
   "version": "3.8.5"
  }
 },
 "nbformat": 4,
 "nbformat_minor": 4
}
